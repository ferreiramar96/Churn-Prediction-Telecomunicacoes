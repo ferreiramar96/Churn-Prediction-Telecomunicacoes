{
  "nbformat": 4,
  "nbformat_minor": 0,
  "metadata": {
    "colab": {
      "provenance": [],
      "gpuType": "T4",
      "include_colab_link": true
    },
    "kernelspec": {
      "name": "python3",
      "display_name": "Python 3"
    }
  },
  "cells": [
    {
      "cell_type": "markdown",
      "metadata": {
        "id": "view-in-github",
        "colab_type": "text"
      },
      "source": [
        "<a href=\"https://colab.research.google.com/github/ferreiramar96/Churn-Prediction-Telecomunicacoes/blob/main/Churn_Prediction_para_Empresa_de_Telecomunica%C3%A7%C3%B5es.ipynb\" target=\"_parent\"><img src=\"https://colab.research.google.com/assets/colab-badge.svg\" alt=\"Open In Colab\"/></a>"
      ]
    },
    {
      "cell_type": "markdown",
      "metadata": {
        "id": "IR56trFcPcC1"
      },
      "source": [
        "# Churn Prediction - Empresa de Telecomunicações\n",
        "\n",
        "*Churn rate*, ou simplesmente *churn* que também conhecido como rotatividade de clientes, refere-se à taxa em que os clientes deixam de fazer negócios com uma empresa, ou cancelam sua assinatura/serviços como Netflix ou Spotify. É um indicador crítico para muitas empresas, pois a rotatividade de clientes pode afetar negativamente a receita e o crescimento. Quando alguém decide cancelar um serviço, deixar de fazer compras ou trocar para um concorrente, isso é considerado churn.\n",
        "\n",
        "O churn pode ser causado por vários fatores, como insatisfação com o serviço, falta de valor percebido, preço alto, concorrência, mudança nas necessidades do cliente, entre outros. Compreender os motivos do churn é essencial para as empresas, pois isso permite que elas adotem estratégias para reter clientes existentes e minimizar a perda de receita.\n",
        "\n",
        "Em resumo, churn é a taxa em que os clientes deixam de fazer negócios ou cancelam serviços, e é um importante indicador de sucesso e crescimento para as empresas. O gerenciamento eficaz do churn é fundamental para manter a base de clientes e impulsionar o crescimento sustentável do negócio.\n",
        "\n",
        "<p align=center>\n",
        "<img src=\"https://raw.githubusercontent.com/ferreiramar96/Churn-Prediction-Telecomunicacoes/main/Churn_Prediction_Capa.jpeg\" width=\"88%\"></p>\n",
        "\n",
        "Ela é de extrema importância para a administração e sua análise ao longo do tempo pode mostrar que existe algum problema que deve ser atacado. Para prever o churn e tomar medidas preventivas, muitas empresas utilizam técnicas de análise de dados e modelos de machine learning. Eles analisam os dados históricos dos clientes, identificam padrões e características que indicam a probabilidade de churn e, com base nessas informações, implementam ações para reter os clientes em risco.\n",
        "\n",
        "*Churn* também pode ser usado para identificar potenciais cancelamentos, com um tempo de antecedência, e promover ações direcionadas para tentar reter tais clientes. Essa métrica deve receber atenção pelo fato de que o Custo de Aquisição de Cliente (CAC) é normalmente mais alto que o custo para mantê-los. Ou seja, um alto valor para o *churn rate* é o que não desejamos."
      ]
    },
    {
      "cell_type": "markdown",
      "source": [
        "## Objetivos do Projeto\n",
        "\n",
        "O objetivo do projeto é reduzir a rotatividade de clientes, ou seja, diminuir a taxa em que os clientes cancelam ou encerram seus serviços. O churn é um desafio significativo para empresas desse setor, pois a perda de clientes afeta diretamente a receita e a rentabilidade. Tem como objetivo principal entender os fatores que contribuem para o cancelamento dos serviços pelos clientes, e a partir disso a empresa poderá desenvolver estratégias eficazes para reter os clientes em risco de churn.\n",
        "<p align=center>\n",
        "<img src=\"https://raw.githubusercontent.com/ferreiramar96/Churn-Prediction-Telecomunicacoes/main/Costumer_Churn.png\" width=\"75%\"></p>\n",
        "\n",
        "Aqui estão alguns objetivos-chave desse projeto:\n",
        "\n",
        "* Desenvolver modelos de machine learning e técnicas de análise de dados para prever com precisão quais clientes estão mais propensos a cancelar seus serviços. Isso envolve a análise de dados históricos e a identificação de padrões e características que indicam a probabilidade de churn.\n",
        "\n",
        "* Determinar os principais fatores que contribuem para o churn dos clientes. Isso pode envolver a análise de variáveis e características específicas, como satisfação do cliente, comportamento de uso, histórico de pagamento, entre outros, para identificar os impulsionadores do churn."
      ],
      "metadata": {
        "id": "tPzy9RpxahhS"
      }
    },
    {
      "cell_type": "markdown",
      "metadata": {
        "id": "0HVmpIxQWT4Y"
      },
      "source": [
        "## Aquisição dos Dados\n",
        "\n",
        "Os dados utilizados neste projeto foram originalmente disponibilizados na [plataforma de ensino da IBM Developer](https://developer.ibm.com/technologies/data-science/patterns/predict-customer-churn-using-watson-studio-and-jupyter-notebooks/#), e tratam de um problema típico de uma companhia de telecomunicações. O *dataset* completo pode ser encontrado [neste link](https://raw.githubusercontent.com/carlosfab/dsnp2/master/datasets/WA_Fn-UseC_-Telco-Customer-Churn.csv).\n",
        "\n",
        "Apesar de não haver informações explícitas disponíves, a seguir vamos ver os nomes das colunas e o que cada uma significa, permitindo um entendimento a respeito do problema."
      ]
    },
    {
      "cell_type": "code",
      "source": [
        "#Intalado pacotes\n",
        "!pip install catboost"
      ],
      "metadata": {
        "id": "SLjxUlshiZQd"
      },
      "execution_count": null,
      "outputs": []
    },
    {
      "cell_type": "code",
      "source": [
        "#Importando warnings filter\n",
        "import warnings\n",
        "# ignore all future warnings\n",
        "warnings.filterwarnings('ignore')\n",
        "\n",
        "#Importar os pacotes necessários\n",
        "import pandas as pd\n",
        "import numpy as np\n",
        "import matplotlib.pyplot as plt\n",
        "import seaborn as sns\n",
        "from sklearn.metrics import roc_auc_score, accuracy_score, f1_score, recall_score\n",
        "from sklearn.metrics import confusion_matrix, classification_report\n",
        "from sklearn.preprocessing import StandardScaler, LabelEncoder\n",
        "from sklearn.pipeline import make_pipeline\n",
        "from sklearn.model_selection import train_test_split, cross_val_score\n",
        "from sklearn.model_selection import StratifiedKFold, GridSearchCV\n",
        "from sklearn.ensemble import ExtraTreesClassifier\n",
        "from sklearn.feature_selection import SelectKBest, chi2\n",
        "from imblearn.under_sampling import RandomUnderSampler\n",
        "\n",
        "#Importando os modelos de Machine Learning\n",
        "from sklearn.linear_model import LogisticRegression\n",
        "from sklearn.linear_model import SGDClassifier\n",
        "from sklearn.svm import SVC\n",
        "from sklearn.tree import DecisionTreeClassifier\n",
        "from sklearn.ensemble import RandomForestClassifier\n",
        "from sklearn.neighbors import KNeighborsClassifier\n",
        "from xgboost import XGBClassifier\n",
        "from lightgbm import LGBMClassifier\n",
        "from catboost import CatBoostClassifier\n",
        "\n",
        "#Definindo um Seed\n",
        "np.random.seed(40)"
      ],
      "metadata": {
        "id": "7m3BjxBQduQO"
      },
      "execution_count": 2,
      "outputs": []
    },
    {
      "cell_type": "code",
      "source": [
        "#Importando os dados\n",
        "dados = \"https://raw.githubusercontent.com/ferreiramar96/Churn-Prediction-Telecomunicacoes/main/Telco_Customer_Churn.csv\"\n",
        "df = pd.read_csv(dados)\n",
        "\n",
        "# ver as 5 primeiras entradas\n",
        "df.head()"
      ],
      "metadata": {
        "colab": {
          "base_uri": "https://localhost:8080/",
          "height": 386
        },
        "id": "gRSTnjj9osBe",
        "outputId": "fc7bb80e-84ad-44de-f91d-29c21f1d0fa7"
      },
      "execution_count": 3,
      "outputs": [
        {
          "output_type": "execute_result",
          "data": {
            "text/plain": [
              "   customerID  gender  SeniorCitizen Partner Dependents  tenure PhoneService  \\\n",
              "0  7590-VHVEG  Female              0     Yes         No       1           No   \n",
              "1  5575-GNVDE    Male              0      No         No      34          Yes   \n",
              "2  3668-QPYBK    Male              0      No         No       2          Yes   \n",
              "3  7795-CFOCW    Male              0      No         No      45           No   \n",
              "4  9237-HQITU  Female              0      No         No       2          Yes   \n",
              "\n",
              "      MultipleLines InternetService OnlineSecurity  ... DeviceProtection  \\\n",
              "0  No phone service             DSL             No  ...               No   \n",
              "1                No             DSL            Yes  ...              Yes   \n",
              "2                No             DSL            Yes  ...               No   \n",
              "3  No phone service             DSL            Yes  ...              Yes   \n",
              "4                No     Fiber optic             No  ...               No   \n",
              "\n",
              "  TechSupport StreamingTV StreamingMovies        Contract PaperlessBilling  \\\n",
              "0          No          No              No  Month-to-month              Yes   \n",
              "1          No          No              No        One year               No   \n",
              "2          No          No              No  Month-to-month              Yes   \n",
              "3         Yes          No              No        One year               No   \n",
              "4          No          No              No  Month-to-month              Yes   \n",
              "\n",
              "               PaymentMethod MonthlyCharges  TotalCharges Churn  \n",
              "0           Electronic check          29.85         29.85    No  \n",
              "1               Mailed check          56.95        1889.5    No  \n",
              "2               Mailed check          53.85        108.15   Yes  \n",
              "3  Bank transfer (automatic)          42.30       1840.75    No  \n",
              "4           Electronic check          70.70        151.65   Yes  \n",
              "\n",
              "[5 rows x 21 columns]"
            ],
            "text/html": [
              "\n",
              "\n",
              "  <div id=\"df-b48edba7-de08-490b-8b0d-eaa2f3f62db7\">\n",
              "    <div class=\"colab-df-container\">\n",
              "      <div>\n",
              "<style scoped>\n",
              "    .dataframe tbody tr th:only-of-type {\n",
              "        vertical-align: middle;\n",
              "    }\n",
              "\n",
              "    .dataframe tbody tr th {\n",
              "        vertical-align: top;\n",
              "    }\n",
              "\n",
              "    .dataframe thead th {\n",
              "        text-align: right;\n",
              "    }\n",
              "</style>\n",
              "<table border=\"1\" class=\"dataframe\">\n",
              "  <thead>\n",
              "    <tr style=\"text-align: right;\">\n",
              "      <th></th>\n",
              "      <th>customerID</th>\n",
              "      <th>gender</th>\n",
              "      <th>SeniorCitizen</th>\n",
              "      <th>Partner</th>\n",
              "      <th>Dependents</th>\n",
              "      <th>tenure</th>\n",
              "      <th>PhoneService</th>\n",
              "      <th>MultipleLines</th>\n",
              "      <th>InternetService</th>\n",
              "      <th>OnlineSecurity</th>\n",
              "      <th>...</th>\n",
              "      <th>DeviceProtection</th>\n",
              "      <th>TechSupport</th>\n",
              "      <th>StreamingTV</th>\n",
              "      <th>StreamingMovies</th>\n",
              "      <th>Contract</th>\n",
              "      <th>PaperlessBilling</th>\n",
              "      <th>PaymentMethod</th>\n",
              "      <th>MonthlyCharges</th>\n",
              "      <th>TotalCharges</th>\n",
              "      <th>Churn</th>\n",
              "    </tr>\n",
              "  </thead>\n",
              "  <tbody>\n",
              "    <tr>\n",
              "      <th>0</th>\n",
              "      <td>7590-VHVEG</td>\n",
              "      <td>Female</td>\n",
              "      <td>0</td>\n",
              "      <td>Yes</td>\n",
              "      <td>No</td>\n",
              "      <td>1</td>\n",
              "      <td>No</td>\n",
              "      <td>No phone service</td>\n",
              "      <td>DSL</td>\n",
              "      <td>No</td>\n",
              "      <td>...</td>\n",
              "      <td>No</td>\n",
              "      <td>No</td>\n",
              "      <td>No</td>\n",
              "      <td>No</td>\n",
              "      <td>Month-to-month</td>\n",
              "      <td>Yes</td>\n",
              "      <td>Electronic check</td>\n",
              "      <td>29.85</td>\n",
              "      <td>29.85</td>\n",
              "      <td>No</td>\n",
              "    </tr>\n",
              "    <tr>\n",
              "      <th>1</th>\n",
              "      <td>5575-GNVDE</td>\n",
              "      <td>Male</td>\n",
              "      <td>0</td>\n",
              "      <td>No</td>\n",
              "      <td>No</td>\n",
              "      <td>34</td>\n",
              "      <td>Yes</td>\n",
              "      <td>No</td>\n",
              "      <td>DSL</td>\n",
              "      <td>Yes</td>\n",
              "      <td>...</td>\n",
              "      <td>Yes</td>\n",
              "      <td>No</td>\n",
              "      <td>No</td>\n",
              "      <td>No</td>\n",
              "      <td>One year</td>\n",
              "      <td>No</td>\n",
              "      <td>Mailed check</td>\n",
              "      <td>56.95</td>\n",
              "      <td>1889.5</td>\n",
              "      <td>No</td>\n",
              "    </tr>\n",
              "    <tr>\n",
              "      <th>2</th>\n",
              "      <td>3668-QPYBK</td>\n",
              "      <td>Male</td>\n",
              "      <td>0</td>\n",
              "      <td>No</td>\n",
              "      <td>No</td>\n",
              "      <td>2</td>\n",
              "      <td>Yes</td>\n",
              "      <td>No</td>\n",
              "      <td>DSL</td>\n",
              "      <td>Yes</td>\n",
              "      <td>...</td>\n",
              "      <td>No</td>\n",
              "      <td>No</td>\n",
              "      <td>No</td>\n",
              "      <td>No</td>\n",
              "      <td>Month-to-month</td>\n",
              "      <td>Yes</td>\n",
              "      <td>Mailed check</td>\n",
              "      <td>53.85</td>\n",
              "      <td>108.15</td>\n",
              "      <td>Yes</td>\n",
              "    </tr>\n",
              "    <tr>\n",
              "      <th>3</th>\n",
              "      <td>7795-CFOCW</td>\n",
              "      <td>Male</td>\n",
              "      <td>0</td>\n",
              "      <td>No</td>\n",
              "      <td>No</td>\n",
              "      <td>45</td>\n",
              "      <td>No</td>\n",
              "      <td>No phone service</td>\n",
              "      <td>DSL</td>\n",
              "      <td>Yes</td>\n",
              "      <td>...</td>\n",
              "      <td>Yes</td>\n",
              "      <td>Yes</td>\n",
              "      <td>No</td>\n",
              "      <td>No</td>\n",
              "      <td>One year</td>\n",
              "      <td>No</td>\n",
              "      <td>Bank transfer (automatic)</td>\n",
              "      <td>42.30</td>\n",
              "      <td>1840.75</td>\n",
              "      <td>No</td>\n",
              "    </tr>\n",
              "    <tr>\n",
              "      <th>4</th>\n",
              "      <td>9237-HQITU</td>\n",
              "      <td>Female</td>\n",
              "      <td>0</td>\n",
              "      <td>No</td>\n",
              "      <td>No</td>\n",
              "      <td>2</td>\n",
              "      <td>Yes</td>\n",
              "      <td>No</td>\n",
              "      <td>Fiber optic</td>\n",
              "      <td>No</td>\n",
              "      <td>...</td>\n",
              "      <td>No</td>\n",
              "      <td>No</td>\n",
              "      <td>No</td>\n",
              "      <td>No</td>\n",
              "      <td>Month-to-month</td>\n",
              "      <td>Yes</td>\n",
              "      <td>Electronic check</td>\n",
              "      <td>70.70</td>\n",
              "      <td>151.65</td>\n",
              "      <td>Yes</td>\n",
              "    </tr>\n",
              "  </tbody>\n",
              "</table>\n",
              "<p>5 rows × 21 columns</p>\n",
              "</div>\n",
              "      <button class=\"colab-df-convert\" onclick=\"convertToInteractive('df-b48edba7-de08-490b-8b0d-eaa2f3f62db7')\"\n",
              "              title=\"Convert this dataframe to an interactive table.\"\n",
              "              style=\"display:none;\">\n",
              "\n",
              "  <svg xmlns=\"http://www.w3.org/2000/svg\" height=\"24px\"viewBox=\"0 0 24 24\"\n",
              "       width=\"24px\">\n",
              "    <path d=\"M0 0h24v24H0V0z\" fill=\"none\"/>\n",
              "    <path d=\"M18.56 5.44l.94 2.06.94-2.06 2.06-.94-2.06-.94-.94-2.06-.94 2.06-2.06.94zm-11 1L8.5 8.5l.94-2.06 2.06-.94-2.06-.94L8.5 2.5l-.94 2.06-2.06.94zm10 10l.94 2.06.94-2.06 2.06-.94-2.06-.94-.94-2.06-.94 2.06-2.06.94z\"/><path d=\"M17.41 7.96l-1.37-1.37c-.4-.4-.92-.59-1.43-.59-.52 0-1.04.2-1.43.59L10.3 9.45l-7.72 7.72c-.78.78-.78 2.05 0 2.83L4 21.41c.39.39.9.59 1.41.59.51 0 1.02-.2 1.41-.59l7.78-7.78 2.81-2.81c.8-.78.8-2.07 0-2.86zM5.41 20L4 18.59l7.72-7.72 1.47 1.35L5.41 20z\"/>\n",
              "  </svg>\n",
              "      </button>\n",
              "\n",
              "\n",
              "\n",
              "    <div id=\"df-16172f18-1d19-45ef-ad8b-1e454748169a\">\n",
              "      <button class=\"colab-df-quickchart\" onclick=\"quickchart('df-16172f18-1d19-45ef-ad8b-1e454748169a')\"\n",
              "              title=\"Suggest charts.\"\n",
              "              style=\"display:none;\">\n",
              "\n",
              "<svg xmlns=\"http://www.w3.org/2000/svg\" height=\"24px\"viewBox=\"0 0 24 24\"\n",
              "     width=\"24px\">\n",
              "    <g>\n",
              "        <path d=\"M19 3H5c-1.1 0-2 .9-2 2v14c0 1.1.9 2 2 2h14c1.1 0 2-.9 2-2V5c0-1.1-.9-2-2-2zM9 17H7v-7h2v7zm4 0h-2V7h2v10zm4 0h-2v-4h2v4z\"/>\n",
              "    </g>\n",
              "</svg>\n",
              "      </button>\n",
              "    </div>\n",
              "\n",
              "<style>\n",
              "  .colab-df-quickchart {\n",
              "    background-color: #E8F0FE;\n",
              "    border: none;\n",
              "    border-radius: 50%;\n",
              "    cursor: pointer;\n",
              "    display: none;\n",
              "    fill: #1967D2;\n",
              "    height: 32px;\n",
              "    padding: 0 0 0 0;\n",
              "    width: 32px;\n",
              "  }\n",
              "\n",
              "  .colab-df-quickchart:hover {\n",
              "    background-color: #E2EBFA;\n",
              "    box-shadow: 0px 1px 2px rgba(60, 64, 67, 0.3), 0px 1px 3px 1px rgba(60, 64, 67, 0.15);\n",
              "    fill: #174EA6;\n",
              "  }\n",
              "\n",
              "  [theme=dark] .colab-df-quickchart {\n",
              "    background-color: #3B4455;\n",
              "    fill: #D2E3FC;\n",
              "  }\n",
              "\n",
              "  [theme=dark] .colab-df-quickchart:hover {\n",
              "    background-color: #434B5C;\n",
              "    box-shadow: 0px 1px 3px 1px rgba(0, 0, 0, 0.15);\n",
              "    filter: drop-shadow(0px 1px 2px rgba(0, 0, 0, 0.3));\n",
              "    fill: #FFFFFF;\n",
              "  }\n",
              "</style>\n",
              "\n",
              "    <script>\n",
              "      async function quickchart(key) {\n",
              "        const containerElement = document.querySelector('#' + key);\n",
              "        const charts = await google.colab.kernel.invokeFunction(\n",
              "            'suggestCharts', [key], {});\n",
              "      }\n",
              "    </script>\n",
              "\n",
              "      <script>\n",
              "\n",
              "function displayQuickchartButton(domScope) {\n",
              "  let quickchartButtonEl =\n",
              "    domScope.querySelector('#df-16172f18-1d19-45ef-ad8b-1e454748169a button.colab-df-quickchart');\n",
              "  quickchartButtonEl.style.display =\n",
              "    google.colab.kernel.accessAllowed ? 'block' : 'none';\n",
              "}\n",
              "\n",
              "        displayQuickchartButton(document);\n",
              "      </script>\n",
              "      <style>\n",
              "    .colab-df-container {\n",
              "      display:flex;\n",
              "      flex-wrap:wrap;\n",
              "      gap: 12px;\n",
              "    }\n",
              "\n",
              "    .colab-df-convert {\n",
              "      background-color: #E8F0FE;\n",
              "      border: none;\n",
              "      border-radius: 50%;\n",
              "      cursor: pointer;\n",
              "      display: none;\n",
              "      fill: #1967D2;\n",
              "      height: 32px;\n",
              "      padding: 0 0 0 0;\n",
              "      width: 32px;\n",
              "    }\n",
              "\n",
              "    .colab-df-convert:hover {\n",
              "      background-color: #E2EBFA;\n",
              "      box-shadow: 0px 1px 2px rgba(60, 64, 67, 0.3), 0px 1px 3px 1px rgba(60, 64, 67, 0.15);\n",
              "      fill: #174EA6;\n",
              "    }\n",
              "\n",
              "    [theme=dark] .colab-df-convert {\n",
              "      background-color: #3B4455;\n",
              "      fill: #D2E3FC;\n",
              "    }\n",
              "\n",
              "    [theme=dark] .colab-df-convert:hover {\n",
              "      background-color: #434B5C;\n",
              "      box-shadow: 0px 1px 3px 1px rgba(0, 0, 0, 0.15);\n",
              "      filter: drop-shadow(0px 1px 2px rgba(0, 0, 0, 0.3));\n",
              "      fill: #FFFFFF;\n",
              "    }\n",
              "  </style>\n",
              "\n",
              "      <script>\n",
              "        const buttonEl =\n",
              "          document.querySelector('#df-b48edba7-de08-490b-8b0d-eaa2f3f62db7 button.colab-df-convert');\n",
              "        buttonEl.style.display =\n",
              "          google.colab.kernel.accessAllowed ? 'block' : 'none';\n",
              "\n",
              "        async function convertToInteractive(key) {\n",
              "          const element = document.querySelector('#df-b48edba7-de08-490b-8b0d-eaa2f3f62db7');\n",
              "          const dataTable =\n",
              "            await google.colab.kernel.invokeFunction('convertToInteractive',\n",
              "                                                     [key], {});\n",
              "          if (!dataTable) return;\n",
              "\n",
              "          const docLinkHtml = 'Like what you see? Visit the ' +\n",
              "            '<a target=\"_blank\" href=https://colab.research.google.com/notebooks/data_table.ipynb>data table notebook</a>'\n",
              "            + ' to learn more about interactive tables.';\n",
              "          element.innerHTML = '';\n",
              "          dataTable['output_type'] = 'display_data';\n",
              "          await google.colab.output.renderOutput(dataTable, element);\n",
              "          const docLink = document.createElement('div');\n",
              "          docLink.innerHTML = docLinkHtml;\n",
              "          element.appendChild(docLink);\n",
              "        }\n",
              "      </script>\n",
              "    </div>\n",
              "  </div>\n"
            ]
          },
          "metadata": {},
          "execution_count": 3
        }
      ]
    },
    {
      "cell_type": "markdown",
      "source": [
        "Acima podemos visualizar as 5 primeiras linhas do nosso conjunto de dados. Porém isso ainda não nos diz muita coisa, pois não sabemos o que cada coluna significa, então irei criar um dicionário de variáveis para podermos entender o que cada um representa.\n",
        "\n",
        "## Dicionário de Váriaveis\n",
        "\n",
        "* `customerID` - ID único que identifica cada cliente\n",
        "* `gender` - Gênero do cliente\n",
        "* `SeniorCitizen` - Indica se o Cliente tem 65 anos ou mais\n",
        "* `Partner` - Indica se o Cliente tem um parceiro ou um cônjuge\n",
        "* `Dependents` - Indica se o Cliente possui ou não dependentes\n",
        "* `tenure` - Tempo de contrato do cliente com a empresa em Meses\n",
        "* `PhoneService` - Indica se o Cliente assina serviço Telefônico\n",
        "* `MultipleLines` - Indica se o Cliente assina multiplas linhas Telefônicas\n",
        "* `InternetService` - Indica se o Cliente assina serviço de Internet\n",
        "* `OnlineSecurity` - Indica se o Cliente assina serviço adicional de Segurança Online\n",
        "* `OnlineBackup` - Indica se o Cliente assina serviço adicional de Backup Online\n",
        "* `DeviceProtection` - Indica se o Cliente assina serviço adicional de Preteção de Dispositivo para o Equipamento de Internet\n",
        "* `TechSupport` - Indica se o Cliente assina serviço adicional de Suporte Técnico\n",
        "* `StreamingTV` - Se o cliente usa a Internet para Programas de TV de terceiros\n",
        "* `StreamingMovies` - Se o cliente usa a Internet para Programas de Filmes de terceiros\n",
        "* `Contract` - Indica o tipo atual de Contrato do cliente\n",
        "* `PaperlessBilling` - Se o cliente optou por receber Faturas e Documentos de forma Eletrônica\n",
        "* `PaymentMethod` - Qual a forma de pagamento\n",
        "* `MonthlyCharges` - Cobrança mensal de todos os serviços por mês\n",
        "* `TotalCharges` - Cobrança total do cliente\n",
        "* `Churn` - Se o cliente deu Churn ou não\n",
        "<br><br>\n",
        "Agora que já sabemos o que cada variável significa, podemos verificar qual o tamanho de nosso Dataset e descobriremos que existem 7043 Entradas e 21 Variáveis:"
      ],
      "metadata": {
        "id": "CYkrPLjjdsbZ"
      }
    },
    {
      "cell_type": "code",
      "source": [
        "print(f'Total de Linhas: \\t{df.shape[0]}')\n",
        "print(f'Total de Colunas: \\t{df.shape[1]}')"
      ],
      "metadata": {
        "colab": {
          "base_uri": "https://localhost:8080/"
        },
        "id": "CQ5RmVlNqdsd",
        "outputId": "129729a5-5c75-4fc0-e718-710b42890c86"
      },
      "execution_count": 4,
      "outputs": [
        {
          "output_type": "stream",
          "name": "stdout",
          "text": [
            "Total de Linhas: \t7043\n",
            "Total de Colunas: \t21\n"
          ]
        }
      ]
    },
    {
      "cell_type": "markdown",
      "source": [
        "## Análise Exploratória\n",
        "\n",
        "A análise exploratória de dados é o processo de investigação e compreensão dos dados por meio de estatísticas descritivas, visualizações e técnicas de resumo. Seu objetivo é identificar padrões, tendências, relações e insights iniciais que ajudem a orientar a modelagem e a tomada de decisões informadas.\n",
        "\n",
        "Vejamos algumas análises iniciais"
      ],
      "metadata": {
        "id": "-QbQEF8Z0vBx"
      }
    },
    {
      "cell_type": "code",
      "source": [
        "#Descobrindo os tipos das Variáveis\n",
        "df.dtypes"
      ],
      "metadata": {
        "id": "A-70o5eu00xj",
        "colab": {
          "base_uri": "https://localhost:8080/"
        },
        "outputId": "a2af9b3d-4312-4537-824b-043b5323c612"
      },
      "execution_count": 5,
      "outputs": [
        {
          "output_type": "execute_result",
          "data": {
            "text/plain": [
              "customerID           object\n",
              "gender               object\n",
              "SeniorCitizen         int64\n",
              "Partner              object\n",
              "Dependents           object\n",
              "tenure                int64\n",
              "PhoneService         object\n",
              "MultipleLines        object\n",
              "InternetService      object\n",
              "OnlineSecurity       object\n",
              "OnlineBackup         object\n",
              "DeviceProtection     object\n",
              "TechSupport          object\n",
              "StreamingTV          object\n",
              "StreamingMovies      object\n",
              "Contract             object\n",
              "PaperlessBilling     object\n",
              "PaymentMethod        object\n",
              "MonthlyCharges      float64\n",
              "TotalCharges         object\n",
              "Churn                object\n",
              "dtype: object"
            ]
          },
          "metadata": {},
          "execution_count": 5
        }
      ]
    },
    {
      "cell_type": "code",
      "source": [
        "#Quantidade de dados ausentes\n",
        "print(f'Total de valores ausentes: {df.isnull().sum().values.sum()}')"
      ],
      "metadata": {
        "colab": {
          "base_uri": "https://localhost:8080/"
        },
        "id": "vVdFyaOD_fKq",
        "outputId": "cf260dec-b9fc-47f7-c1b8-31a3e51d99bb"
      },
      "execution_count": 6,
      "outputs": [
        {
          "output_type": "stream",
          "name": "stdout",
          "text": [
            "Total de valores ausentes: 0\n"
          ]
        }
      ]
    },
    {
      "cell_type": "code",
      "source": [
        "#Valores unicos por coluna\n",
        "df.nunique()"
      ],
      "metadata": {
        "colab": {
          "base_uri": "https://localhost:8080/"
        },
        "id": "IZIPZ1F6AP_i",
        "outputId": "cdd759de-b33c-4fb1-f850-2bdee6279078"
      },
      "execution_count": 7,
      "outputs": [
        {
          "output_type": "execute_result",
          "data": {
            "text/plain": [
              "customerID          7043\n",
              "gender                 2\n",
              "SeniorCitizen          2\n",
              "Partner                2\n",
              "Dependents             2\n",
              "tenure                73\n",
              "PhoneService           2\n",
              "MultipleLines          3\n",
              "InternetService        3\n",
              "OnlineSecurity         3\n",
              "OnlineBackup           3\n",
              "DeviceProtection       3\n",
              "TechSupport            3\n",
              "StreamingTV            3\n",
              "StreamingMovies        3\n",
              "Contract               3\n",
              "PaperlessBilling       2\n",
              "PaymentMethod          4\n",
              "MonthlyCharges      1585\n",
              "TotalCharges        6531\n",
              "Churn                  2\n",
              "dtype: int64"
            ]
          },
          "metadata": {},
          "execution_count": 7
        }
      ]
    },
    {
      "cell_type": "code",
      "source": [
        "#Porcentagem de valores ausentes\n",
        "df.isnull().sum()/df.shape[0]"
      ],
      "metadata": {
        "colab": {
          "base_uri": "https://localhost:8080/"
        },
        "id": "UiX4TVALBPT6",
        "outputId": "43fe96c5-a54b-49f5-a489-44aa7202e2e4"
      },
      "execution_count": 8,
      "outputs": [
        {
          "output_type": "execute_result",
          "data": {
            "text/plain": [
              "customerID          0.0\n",
              "gender              0.0\n",
              "SeniorCitizen       0.0\n",
              "Partner             0.0\n",
              "Dependents          0.0\n",
              "tenure              0.0\n",
              "PhoneService        0.0\n",
              "MultipleLines       0.0\n",
              "InternetService     0.0\n",
              "OnlineSecurity      0.0\n",
              "OnlineBackup        0.0\n",
              "DeviceProtection    0.0\n",
              "TechSupport         0.0\n",
              "StreamingTV         0.0\n",
              "StreamingMovies     0.0\n",
              "Contract            0.0\n",
              "PaperlessBilling    0.0\n",
              "PaymentMethod       0.0\n",
              "MonthlyCharges      0.0\n",
              "TotalCharges        0.0\n",
              "Churn               0.0\n",
              "dtype: float64"
            ]
          },
          "metadata": {},
          "execution_count": 8
        }
      ]
    },
    {
      "cell_type": "markdown",
      "source": [
        "Observando as saídas acima, podemos chegar a algumas conclusões:\n",
        "\n",
        "* A coluna `TotalCharges` deveria ser do `float`, porém ela está como `string`.\n",
        "  * Logo a seguir iremos ver, apesar de não termos detectado nenhum valor ausente, existem algumas strings que possuem sim valores ausentes.\n",
        "\n",
        "* A coluna `customerID` não agrega nenhuma informação, pois ela se trata apenas de uma identificação para cada cliente.\n",
        "\n",
        "* Existem muitas variáveis binárias e multiclasses, que mais para frente serão codificadas para valores numéricos, para utilizarmos alguns modelos de Machine Learning.\n",
        "\n",
        "* Nossa variável alvo é `Churn`, representando a situação de Churn.\n",
        "\n",
        "Voltando a nossa variável `TotalCharges` para identificarmos os dados ausentes...\n",
        "Podemos descobri-los da seguinte forma:"
      ],
      "metadata": {
        "id": "T_SSZXnVD0gr"
      }
    },
    {
      "cell_type": "code",
      "source": [
        "#Convertendo a coluna TotalCharges para float\n",
        "#df['TotalCharges'].astype('float32')"
      ],
      "metadata": {
        "id": "fd1_N1b1CH8L"
      },
      "execution_count": 9,
      "outputs": []
    },
    {
      "cell_type": "markdown",
      "source": [
        "O código acima é para convertermos para o tipo float, porem se rodarmos o código acima ele gerará o seguinte erro: `ValueError: could not convert string to float: ' '`. O que provavelmente aconteceu, foi que quando alguém foi preencher os dados acabou colocando esse `\"\"`.\n",
        "\n",
        "Criarei uma função para conseguir converter adequadamente os valores de string para float, e os valores `\"\"` encontrados serão convertidos em NaN e posteriormente serão substituidos pela `Mediana` da coluna `TotalCharges`\n",
        "\n",
        "Já irei também aproveitar para excluir a coluna `CustomerID`, que será desnecessára neste projeto. Mas caso ainda precise, irei fazer uma cópia dos nossos dados"
      ],
      "metadata": {
        "id": "VxHSEdJDHHY6"
      }
    },
    {
      "cell_type": "code",
      "source": [
        "#Criando a função\n",
        "def converter_str_float(entrada):\n",
        "    try:\n",
        "        return float(entrada)\n",
        "    except ValueError:\n",
        "        return np.nan\n",
        "\n",
        "#Criando uma cópia dos dados\n",
        "df_clean = df.copy()\n",
        "\n",
        "#Removendo a coluna CustomerID\n",
        "df_clean.drop(columns=\"customerID\", inplace=True)\n",
        "\n",
        "#Aplicando a função em TotalCharge\n",
        "df_clean['TotalCharges'] = df_clean['TotalCharges'].apply(converter_str_float)\n",
        "\n",
        "#Verificando se existem valores ausentes novamente\n",
        "print(f\"Valores ausentes(Antes da Transformação): {df_clean['TotalCharges'].isnull().sum()}\")\n",
        "\n",
        "#Completando os dados ausentes com a Mediana\n",
        "TotalChargesMediana = df_clean['TotalCharges'].median()\n",
        "df_clean['TotalCharges'].fillna(TotalChargesMediana, inplace=True)\n",
        "\n",
        "#Verificando se ainda existe valor ausente\n",
        "print(f\"Valores ausentes(Depois da Transformação): {df_clean['TotalCharges'].isnull().sum()}\")"
      ],
      "metadata": {
        "id": "E-CocF9KHoox",
        "colab": {
          "base_uri": "https://localhost:8080/"
        },
        "outputId": "ce33ffc4-217d-4df6-a154-3c0730a799ad"
      },
      "execution_count": 10,
      "outputs": [
        {
          "output_type": "stream",
          "name": "stdout",
          "text": [
            "Valores ausentes(Antes da Transformação): 11\n",
            "Valores ausentes(Depois da Transformação): 0\n"
          ]
        }
      ]
    },
    {
      "cell_type": "markdown",
      "source": [
        "Apesar de existirem muitas variáveis categórica, com essas alterações feitas acima, já podemos ver algumas informações estatísticas. E assim podermos ver se em nosso conjunto de dados possui valores outliers. Irei utilizar a função `describe`."
      ],
      "metadata": {
        "id": "23usoHjCWBwv"
      }
    },
    {
      "cell_type": "code",
      "source": [
        "#Estatistica dos dados\n",
        "df_clean.describe()"
      ],
      "metadata": {
        "colab": {
          "base_uri": "https://localhost:8080/",
          "height": 300
        },
        "id": "jHTi6ANOWyOJ",
        "outputId": "d1980e71-f099-4a48-8990-b74b55a36744"
      },
      "execution_count": 11,
      "outputs": [
        {
          "output_type": "execute_result",
          "data": {
            "text/plain": [
              "       SeniorCitizen       tenure  MonthlyCharges  TotalCharges\n",
              "count    7043.000000  7043.000000     7043.000000   7043.000000\n",
              "mean        0.162147    32.371149       64.761692   2281.916928\n",
              "std         0.368612    24.559481       30.090047   2265.270398\n",
              "min         0.000000     0.000000       18.250000     18.800000\n",
              "25%         0.000000     9.000000       35.500000    402.225000\n",
              "50%         0.000000    29.000000       70.350000   1397.475000\n",
              "75%         0.000000    55.000000       89.850000   3786.600000\n",
              "max         1.000000    72.000000      118.750000   8684.800000"
            ],
            "text/html": [
              "\n",
              "\n",
              "  <div id=\"df-3dbac57e-c5a4-4cd0-b05b-c21004b36e36\">\n",
              "    <div class=\"colab-df-container\">\n",
              "      <div>\n",
              "<style scoped>\n",
              "    .dataframe tbody tr th:only-of-type {\n",
              "        vertical-align: middle;\n",
              "    }\n",
              "\n",
              "    .dataframe tbody tr th {\n",
              "        vertical-align: top;\n",
              "    }\n",
              "\n",
              "    .dataframe thead th {\n",
              "        text-align: right;\n",
              "    }\n",
              "</style>\n",
              "<table border=\"1\" class=\"dataframe\">\n",
              "  <thead>\n",
              "    <tr style=\"text-align: right;\">\n",
              "      <th></th>\n",
              "      <th>SeniorCitizen</th>\n",
              "      <th>tenure</th>\n",
              "      <th>MonthlyCharges</th>\n",
              "      <th>TotalCharges</th>\n",
              "    </tr>\n",
              "  </thead>\n",
              "  <tbody>\n",
              "    <tr>\n",
              "      <th>count</th>\n",
              "      <td>7043.000000</td>\n",
              "      <td>7043.000000</td>\n",
              "      <td>7043.000000</td>\n",
              "      <td>7043.000000</td>\n",
              "    </tr>\n",
              "    <tr>\n",
              "      <th>mean</th>\n",
              "      <td>0.162147</td>\n",
              "      <td>32.371149</td>\n",
              "      <td>64.761692</td>\n",
              "      <td>2281.916928</td>\n",
              "    </tr>\n",
              "    <tr>\n",
              "      <th>std</th>\n",
              "      <td>0.368612</td>\n",
              "      <td>24.559481</td>\n",
              "      <td>30.090047</td>\n",
              "      <td>2265.270398</td>\n",
              "    </tr>\n",
              "    <tr>\n",
              "      <th>min</th>\n",
              "      <td>0.000000</td>\n",
              "      <td>0.000000</td>\n",
              "      <td>18.250000</td>\n",
              "      <td>18.800000</td>\n",
              "    </tr>\n",
              "    <tr>\n",
              "      <th>25%</th>\n",
              "      <td>0.000000</td>\n",
              "      <td>9.000000</td>\n",
              "      <td>35.500000</td>\n",
              "      <td>402.225000</td>\n",
              "    </tr>\n",
              "    <tr>\n",
              "      <th>50%</th>\n",
              "      <td>0.000000</td>\n",
              "      <td>29.000000</td>\n",
              "      <td>70.350000</td>\n",
              "      <td>1397.475000</td>\n",
              "    </tr>\n",
              "    <tr>\n",
              "      <th>75%</th>\n",
              "      <td>0.000000</td>\n",
              "      <td>55.000000</td>\n",
              "      <td>89.850000</td>\n",
              "      <td>3786.600000</td>\n",
              "    </tr>\n",
              "    <tr>\n",
              "      <th>max</th>\n",
              "      <td>1.000000</td>\n",
              "      <td>72.000000</td>\n",
              "      <td>118.750000</td>\n",
              "      <td>8684.800000</td>\n",
              "    </tr>\n",
              "  </tbody>\n",
              "</table>\n",
              "</div>\n",
              "      <button class=\"colab-df-convert\" onclick=\"convertToInteractive('df-3dbac57e-c5a4-4cd0-b05b-c21004b36e36')\"\n",
              "              title=\"Convert this dataframe to an interactive table.\"\n",
              "              style=\"display:none;\">\n",
              "\n",
              "  <svg xmlns=\"http://www.w3.org/2000/svg\" height=\"24px\"viewBox=\"0 0 24 24\"\n",
              "       width=\"24px\">\n",
              "    <path d=\"M0 0h24v24H0V0z\" fill=\"none\"/>\n",
              "    <path d=\"M18.56 5.44l.94 2.06.94-2.06 2.06-.94-2.06-.94-.94-2.06-.94 2.06-2.06.94zm-11 1L8.5 8.5l.94-2.06 2.06-.94-2.06-.94L8.5 2.5l-.94 2.06-2.06.94zm10 10l.94 2.06.94-2.06 2.06-.94-2.06-.94-.94-2.06-.94 2.06-2.06.94z\"/><path d=\"M17.41 7.96l-1.37-1.37c-.4-.4-.92-.59-1.43-.59-.52 0-1.04.2-1.43.59L10.3 9.45l-7.72 7.72c-.78.78-.78 2.05 0 2.83L4 21.41c.39.39.9.59 1.41.59.51 0 1.02-.2 1.41-.59l7.78-7.78 2.81-2.81c.8-.78.8-2.07 0-2.86zM5.41 20L4 18.59l7.72-7.72 1.47 1.35L5.41 20z\"/>\n",
              "  </svg>\n",
              "      </button>\n",
              "\n",
              "\n",
              "\n",
              "    <div id=\"df-50ffe75e-9457-4ef5-b6c2-db4801a4edcd\">\n",
              "      <button class=\"colab-df-quickchart\" onclick=\"quickchart('df-50ffe75e-9457-4ef5-b6c2-db4801a4edcd')\"\n",
              "              title=\"Suggest charts.\"\n",
              "              style=\"display:none;\">\n",
              "\n",
              "<svg xmlns=\"http://www.w3.org/2000/svg\" height=\"24px\"viewBox=\"0 0 24 24\"\n",
              "     width=\"24px\">\n",
              "    <g>\n",
              "        <path d=\"M19 3H5c-1.1 0-2 .9-2 2v14c0 1.1.9 2 2 2h14c1.1 0 2-.9 2-2V5c0-1.1-.9-2-2-2zM9 17H7v-7h2v7zm4 0h-2V7h2v10zm4 0h-2v-4h2v4z\"/>\n",
              "    </g>\n",
              "</svg>\n",
              "      </button>\n",
              "    </div>\n",
              "\n",
              "<style>\n",
              "  .colab-df-quickchart {\n",
              "    background-color: #E8F0FE;\n",
              "    border: none;\n",
              "    border-radius: 50%;\n",
              "    cursor: pointer;\n",
              "    display: none;\n",
              "    fill: #1967D2;\n",
              "    height: 32px;\n",
              "    padding: 0 0 0 0;\n",
              "    width: 32px;\n",
              "  }\n",
              "\n",
              "  .colab-df-quickchart:hover {\n",
              "    background-color: #E2EBFA;\n",
              "    box-shadow: 0px 1px 2px rgba(60, 64, 67, 0.3), 0px 1px 3px 1px rgba(60, 64, 67, 0.15);\n",
              "    fill: #174EA6;\n",
              "  }\n",
              "\n",
              "  [theme=dark] .colab-df-quickchart {\n",
              "    background-color: #3B4455;\n",
              "    fill: #D2E3FC;\n",
              "  }\n",
              "\n",
              "  [theme=dark] .colab-df-quickchart:hover {\n",
              "    background-color: #434B5C;\n",
              "    box-shadow: 0px 1px 3px 1px rgba(0, 0, 0, 0.15);\n",
              "    filter: drop-shadow(0px 1px 2px rgba(0, 0, 0, 0.3));\n",
              "    fill: #FFFFFF;\n",
              "  }\n",
              "</style>\n",
              "\n",
              "    <script>\n",
              "      async function quickchart(key) {\n",
              "        const containerElement = document.querySelector('#' + key);\n",
              "        const charts = await google.colab.kernel.invokeFunction(\n",
              "            'suggestCharts', [key], {});\n",
              "      }\n",
              "    </script>\n",
              "\n",
              "      <script>\n",
              "\n",
              "function displayQuickchartButton(domScope) {\n",
              "  let quickchartButtonEl =\n",
              "    domScope.querySelector('#df-50ffe75e-9457-4ef5-b6c2-db4801a4edcd button.colab-df-quickchart');\n",
              "  quickchartButtonEl.style.display =\n",
              "    google.colab.kernel.accessAllowed ? 'block' : 'none';\n",
              "}\n",
              "\n",
              "        displayQuickchartButton(document);\n",
              "      </script>\n",
              "      <style>\n",
              "    .colab-df-container {\n",
              "      display:flex;\n",
              "      flex-wrap:wrap;\n",
              "      gap: 12px;\n",
              "    }\n",
              "\n",
              "    .colab-df-convert {\n",
              "      background-color: #E8F0FE;\n",
              "      border: none;\n",
              "      border-radius: 50%;\n",
              "      cursor: pointer;\n",
              "      display: none;\n",
              "      fill: #1967D2;\n",
              "      height: 32px;\n",
              "      padding: 0 0 0 0;\n",
              "      width: 32px;\n",
              "    }\n",
              "\n",
              "    .colab-df-convert:hover {\n",
              "      background-color: #E2EBFA;\n",
              "      box-shadow: 0px 1px 2px rgba(60, 64, 67, 0.3), 0px 1px 3px 1px rgba(60, 64, 67, 0.15);\n",
              "      fill: #174EA6;\n",
              "    }\n",
              "\n",
              "    [theme=dark] .colab-df-convert {\n",
              "      background-color: #3B4455;\n",
              "      fill: #D2E3FC;\n",
              "    }\n",
              "\n",
              "    [theme=dark] .colab-df-convert:hover {\n",
              "      background-color: #434B5C;\n",
              "      box-shadow: 0px 1px 3px 1px rgba(0, 0, 0, 0.15);\n",
              "      filter: drop-shadow(0px 1px 2px rgba(0, 0, 0, 0.3));\n",
              "      fill: #FFFFFF;\n",
              "    }\n",
              "  </style>\n",
              "\n",
              "      <script>\n",
              "        const buttonEl =\n",
              "          document.querySelector('#df-3dbac57e-c5a4-4cd0-b05b-c21004b36e36 button.colab-df-convert');\n",
              "        buttonEl.style.display =\n",
              "          google.colab.kernel.accessAllowed ? 'block' : 'none';\n",
              "\n",
              "        async function convertToInteractive(key) {\n",
              "          const element = document.querySelector('#df-3dbac57e-c5a4-4cd0-b05b-c21004b36e36');\n",
              "          const dataTable =\n",
              "            await google.colab.kernel.invokeFunction('convertToInteractive',\n",
              "                                                     [key], {});\n",
              "          if (!dataTable) return;\n",
              "\n",
              "          const docLinkHtml = 'Like what you see? Visit the ' +\n",
              "            '<a target=\"_blank\" href=https://colab.research.google.com/notebooks/data_table.ipynb>data table notebook</a>'\n",
              "            + ' to learn more about interactive tables.';\n",
              "          element.innerHTML = '';\n",
              "          dataTable['output_type'] = 'display_data';\n",
              "          await google.colab.output.renderOutput(dataTable, element);\n",
              "          const docLink = document.createElement('div');\n",
              "          docLink.innerHTML = docLinkHtml;\n",
              "          element.appendChild(docLink);\n",
              "        }\n",
              "      </script>\n",
              "    </div>\n",
              "  </div>\n"
            ]
          },
          "metadata": {},
          "execution_count": 11
        }
      ]
    },
    {
      "cell_type": "markdown",
      "source": [
        "Abaixo irei criar um gráfico de dispersão e alguns boxplots para tentarmos encontrar algum anomalia nos dados, como por exemplo valores outliers. E a partir dai, tomarmos alguma providencia."
      ],
      "metadata": {
        "id": "GLitDUlmSULD"
      }
    },
    {
      "cell_type": "code",
      "source": [
        "#Construindo o ScatterPlot\n",
        "fig, ax = plt.subplots(figsize=(8, 5))\n",
        "sns.scatterplot(data=df_clean, x='tenure', y='TotalCharges')\n",
        "ax.set_title(\"Meses x Valor Total\")\n",
        "plt.show()"
      ],
      "metadata": {
        "colab": {
          "base_uri": "https://localhost:8080/",
          "height": 487
        },
        "id": "paKxzv1lX2v-",
        "outputId": "63f0eb01-1b3e-448e-a283-09d73538e615"
      },
      "execution_count": 12,
      "outputs": [
        {
          "output_type": "display_data",
          "data": {
            "text/plain": [
              "<Figure size 800x500 with 1 Axes>"
            ],
            "image/png": "[encoded data removed]"
          },
          "metadata": {}
        }
      ]
    },
    {
      "cell_type": "code",
      "source": [
        "#Construindo o BoxPlot\n",
        "fig, ax = plt.subplots(nrows=1, ncols=2, figsize=(12, 4))\n",
        "sns.boxplot(df_clean['MonthlyCharges'], ax=ax[0], orient='h')\n",
        "sns.boxplot(df_clean['TotalCharges'], ax=ax[1], orient='h')\n",
        "ax[0].set_title('MonthlyCharges')\n",
        "ax[1].set_title('TotalCharges')\n",
        "plt.show()"
      ],
      "metadata": {
        "id": "R8Yb2SDuZHlw",
        "colab": {
          "base_uri": "https://localhost:8080/",
          "height": 391
        },
        "outputId": "fd35a1c7-1d9a-4692-ef7f-391de3eabb79"
      },
      "execution_count": 13,
      "outputs": [
        {
          "output_type": "display_data",
          "data": {
            "text/plain": [
              "<Figure size 1200x400 with 2 Axes>"
            ],
            "image/png": "[encoded data removed]"
          },
          "metadata": {}
        }
      ]
    },
    {
      "cell_type": "markdown",
      "source": [
        "No primeiro gráfico fiz uma relação entre as variáveis `tenure` e `TotalCharges`, mas não foi identificando nada fora do padrão.\n",
        "\n",
        "Já no segundo gráfico, também não foi identificado nenhum valor outlier, para ser considerado um valor discrepante ele teria que estar fora dos limites superior e inferior, porém nada foi detectado.\n",
        "\n",
        "Logo em seguida, irei plotar um gráfico que mostra quantos clientes assinam a tanto tempo(tenure), e lembrando que os valores são em meses."
      ],
      "metadata": {
        "id": "x5I3GHWrV99M"
      }
    },
    {
      "cell_type": "code",
      "source": [
        "#Construindo o Histograma\n",
        "fig, ax = plt.subplots(figsize=(18, 4))\n",
        "sns.countplot(data=df_clean, x='tenure')\n",
        "plt.show()"
      ],
      "metadata": {
        "colab": {
          "base_uri": "https://localhost:8080/",
          "height": 388
        },
        "id": "rYWBvWRZXE_h",
        "outputId": "306e59ef-30b6-4c5f-906c-9742b54a4f22"
      },
      "execution_count": 14,
      "outputs": [
        {
          "output_type": "display_data",
          "data": {
            "text/plain": [
              "<Figure size 1800x400 with 1 Axes>"
            ],
            "image/png": "[encoded data removed]"
          },
          "metadata": {}
        }
      ]
    },
    {
      "cell_type": "markdown",
      "source": [
        "Podemos ver que a quantidade de meses que mais retém os clientes, são os 5 primeiros meses e os 3 utlimos meses. Sendo que o mês 72 é o ultimo número de meses em nosso dataset e 2º maior mês de retenção dos clientes, então talvez se houvesse mais alguns meses seria possível identificar mais padrões, fazendo com que o modelo de Machine Learning seja mais preciso.\n",
        "\n",
        "----------------------------------------------------------"
      ],
      "metadata": {
        "id": "6N3JYJIx9GW9"
      }
    },
    {
      "cell_type": "markdown",
      "source": [
        "Agora falando sobre `variáveis categóricas`, é importante ver os valores únicos. Isso permite identificar situações como labels diferentes querendo indicar a mesma coisa.\n",
        "\n",
        "Vendo os valores impressos na célula abaixo, entendo que um cientista de dados assim como eu, possa querer considerar valores como `No`, `No phone service` e `No internet service` como sendo a mesma coisa.\n",
        "\n",
        "Isso ocorre nas seguintes colunas: `MultipleLines`, `OnlineSecurity`, `OnlineBackup`, `DeviceProtection`, `TechSupport`, `StreamingTV`, `StreamingMovies`. Aplicando essa alteração, iremos ter mais 7 colunas binárias, o que significa que mais para frente ficará muito mais fácil para podermos trabalhar com essas variáveis. Identificado onde serão feitas as mudanças, hora de colocar a mão na massa."
      ],
      "metadata": {
        "id": "hJnx5LX84EK7"
      }
    },
    {
      "cell_type": "code",
      "source": [
        "#Verificar valores únicos das variáveis categóricas\n",
        "np.unique(df_clean.select_dtypes('object').values)"
      ],
      "metadata": {
        "colab": {
          "base_uri": "https://localhost:8080/"
        },
        "id": "Ht80lZW-ZRTI",
        "outputId": "d1da4475-9f84-4f14-e4ac-5a3a7e1fa889"
      },
      "execution_count": 15,
      "outputs": [
        {
          "output_type": "execute_result",
          "data": {
            "text/plain": [
              "array(['Bank transfer (automatic)', 'Credit card (automatic)', 'DSL',\n",
              "       'Electronic check', 'Female', 'Fiber optic', 'Mailed check',\n",
              "       'Male', 'Month-to-month', 'No', 'No internet service',\n",
              "       'No phone service', 'One year', 'Two year', 'Yes'], dtype=object)"
            ]
          },
          "metadata": {},
          "execution_count": 15
        }
      ]
    },
    {
      "cell_type": "code",
      "source": [
        "#Criando a lista com as colunas de 'No internet service'\n",
        "no_internet_services = ['OnlineSecurity', 'OnlineBackup', 'DeviceProtection', 'TechSupport', 'StreamingTV', 'StreamingMovies']\n",
        "\n",
        "#Aplicando as alterações\n",
        "for col in no_internet_services:\n",
        "  df_clean[col].replace('No internet service', 'No', inplace=True)\n",
        "\n",
        "df_clean['MultipleLines'].replace('No phone service', 'No', inplace=True)\n",
        "\n",
        "#Verificando novamente os valores únicos das variáveis categóricas\n",
        "np.unique(df_clean.select_dtypes('object').values)"
      ],
      "metadata": {
        "colab": {
          "base_uri": "https://localhost:8080/"
        },
        "id": "4c2R1lcVghwu",
        "outputId": "ceb1ea09-3586-441c-99e4-7e24fd402b1b"
      },
      "execution_count": 16,
      "outputs": [
        {
          "output_type": "execute_result",
          "data": {
            "text/plain": [
              "array(['Bank transfer (automatic)', 'Credit card (automatic)', 'DSL',\n",
              "       'Electronic check', 'Female', 'Fiber optic', 'Mailed check',\n",
              "       'Male', 'Month-to-month', 'No', 'One year', 'Two year', 'Yes'],\n",
              "      dtype=object)"
            ]
          },
          "metadata": {},
          "execution_count": 16
        }
      ]
    },
    {
      "cell_type": "markdown",
      "source": [
        "O próximo passo que iremos dar será identificar se os nossos dados podem estar com algum tipo de bias (viés), irei verificar a contagem de valores para `Male` e `Female`.\n",
        "\n",
        "Apesar de não entender que isso poderia gerar algum prejuízo relevante neste problema específico, haverá muitas situações onde esse prejuízo será real, como é o caso de modelos aplicados à contratação de funcionários ou previsão de crimes.\n",
        "\n",
        "E tambem irei ver como está a distribuição dos nossos dados de `Churn`."
      ],
      "metadata": {
        "id": "A1863IigBkf-"
      }
    },
    {
      "cell_type": "code",
      "source": [
        "#Construindo o CountPlot\n",
        "fig, ax = plt.subplots(nrows=1, ncols=2, figsize=(10,4))\n",
        "\n",
        "print(f'Dados de Gênero: \\n{df_clean.gender.value_counts()}')\n",
        "print(\"----------------------------------\")\n",
        "print(f'Dados de Churn: \\n{df_clean.Churn.value_counts()}')\n",
        "\n",
        "sns.countplot(data=df_clean, x='gender', ax=ax[0])\n",
        "sns.countplot(data=df_clean, x='Churn', ax=ax[1])\n",
        "ax[0].set_title('Gender')\n",
        "ax[1].set_title('Churn')\n",
        "plt.show()"
      ],
      "metadata": {
        "colab": {
          "base_uri": "https://localhost:8080/",
          "height": 566
        },
        "id": "VlEBv7S4COLK",
        "outputId": "451fc52f-9786-49f7-e7f6-6c3dd9478544"
      },
      "execution_count": 17,
      "outputs": [
        {
          "output_type": "stream",
          "name": "stdout",
          "text": [
            "Dados de Gênero: \n",
            "Male      3555\n",
            "Female    3488\n",
            "Name: gender, dtype: int64\n",
            "----------------------------------\n",
            "Dados de Churn: \n",
            "No     5174\n",
            "Yes    1869\n",
            "Name: Churn, dtype: int64\n"
          ]
        },
        {
          "output_type": "display_data",
          "data": {
            "text/plain": [
              "<Figure size 1000x400 with 2 Axes>"
            ],
            "image/png": "[encoded data removed]"
          },
          "metadata": {}
        }
      ]
    },
    {
      "cell_type": "markdown",
      "source": [
        "É possível identificar que para os dados de `Churn`a classe `No` ocorre com frequência muito superior à classe `Yes`. Isso será considerado na etapa de pré-processamento, pois na parte de construção do modelo de machine learning, esse desbalanceamento terá uma grande influência nos resultados do modelo.\n",
        "\n",
        "Já para os dados de `Gender` estão balanceados de forma quase igual, não será nescessário fazer o balanceamento das classes."
      ],
      "metadata": {
        "id": "b8Vq33O4FjRP"
      }
    },
    {
      "cell_type": "markdown",
      "source": [
        "Agora vamos ver a correlação entre as variaveis numéricas para identificarmos possíveis relações. Irei utilizar as seguintes variáveis: `Tenure`, `MonthlyCharges`, `TotalCharges`."
      ],
      "metadata": {
        "id": "ZohzEW6VXS1n"
      }
    },
    {
      "cell_type": "code",
      "source": [
        "#Construindo a Matriz de Correlação\n",
        "df_corr = df_clean[['tenure', 'MonthlyCharges', 'TotalCharges']].corr()\n",
        "sns.heatmap(df_corr, cmap='rocket_r')\n",
        "plt.show()"
      ],
      "metadata": {
        "colab": {
          "base_uri": "https://localhost:8080/",
          "height": 435
        },
        "id": "RxvsgYq7XGfr",
        "outputId": "39380f3f-0180-4128-f871-eb12c4655111"
      },
      "execution_count": 18,
      "outputs": [
        {
          "output_type": "display_data",
          "data": {
            "text/plain": [
              "<Figure size 640x480 with 2 Axes>"
            ],
            "image/png": "[encoded data removed]"
          },
          "metadata": {}
        }
      ]
    },
    {
      "cell_type": "markdown",
      "source": [
        "Observando nossa matriz de correlação acima, é possível ver que há uma **forte** correlação entre as variáveis \"Tenure\" e \"TotalCharge\", e uma correlação **fraca** entre \"Tenure\" e \"MonthlyCharges\"."
      ],
      "metadata": {
        "id": "MXIbwD_IcICE"
      }
    },
    {
      "cell_type": "markdown",
      "source": [
        "Por fim, nesta primeira parte de análise exploratória, irei verificar qual a taxa em porcentagem de `Churn` pelos valores das colunas: `PaymentMethod` e `Contract`. Pois com essas análises, podemos ter uma noção de quais mais têm influência sobre os Churns."
      ],
      "metadata": {
        "id": "kA4IWm5ieY1U"
      }
    },
    {
      "cell_type": "code",
      "source": [
        "#Agrupando por cada coluna o Churn, e calculando a porcentagem de cada um\n",
        "grupo_pagamento = (df_clean.groupby(['PaymentMethod', 'Churn'])['Churn'].count()/df_clean.shape[0]*100).round(2)\n",
        "grupo_contrato = (df_clean.groupby(['Contract', 'Churn'])['Churn'].count()/df_clean.shape[0]*100).round(2)\n",
        "\n",
        "print(\"Taxa de Churn por Forma de Pagamento:\\n\")\n",
        "print(grupo_pagamento)\n",
        "print(\"--------------------------------------------\\n\")\n",
        "print(\"Taxa de Churn por Tipo de Contrato:\\n\")\n",
        "print(grupo_contrato)"
      ],
      "metadata": {
        "colab": {
          "base_uri": "https://localhost:8080/"
        },
        "id": "1kewhHawaspc",
        "outputId": "f2370de3-8526-4f18-a108-b08ca79e2858"
      },
      "execution_count": 19,
      "outputs": [
        {
          "output_type": "stream",
          "name": "stdout",
          "text": [
            "Taxa de Churn por Forma de Pagamento:\n",
            "\n",
            "PaymentMethod              Churn\n",
            "Bank transfer (automatic)  No       18.26\n",
            "                           Yes       3.66\n",
            "Credit card (automatic)    No       18.32\n",
            "                           Yes       3.29\n",
            "Electronic check           No       18.37\n",
            "                           Yes      15.21\n",
            "Mailed check               No       18.51\n",
            "                           Yes       4.37\n",
            "Name: Churn, dtype: float64\n",
            "--------------------------------------------\n",
            "\n",
            "Taxa de Churn por Tipo de Contrato:\n",
            "\n",
            "Contract        Churn\n",
            "Month-to-month  No       31.52\n",
            "                Yes      23.50\n",
            "One year        No       18.56\n",
            "                Yes       2.36\n",
            "Two year        No       23.38\n",
            "                Yes       0.68\n",
            "Name: Churn, dtype: float64\n"
          ]
        }
      ]
    },
    {
      "cell_type": "markdown",
      "source": [
        "Com os agrupamentos feitos e com os valores impressos, podemos concluir que:\n",
        "* Os clientes que pagam por meio **Electronic check**, possuem quase 4x mais chance de cancelarem os serviços do que clientes com outros métodos de pagamento.\n",
        "* Clientes que possuem a assinatura **Month-to-month**, são responsáveis por 85% das taxas de  cancelamento."
      ],
      "metadata": {
        "id": "0s7PJVvklEnu"
      }
    },
    {
      "cell_type": "markdown",
      "source": [
        "Essas foram algumas análises feitas, e agora estamos prontos para partirmos para a parte de preparação dos dados e logo em seguida para a construção de nossos modelos de Machine Learning."
      ],
      "metadata": {
        "id": "hlQ8kmJtnNRq"
      }
    },
    {
      "cell_type": "markdown",
      "source": [
        "## Preparação dos Dados\n",
        "\n",
        "A preparação dos dados para um modelo de machine learning é uma etapa crucial que visa garantir que os dados estejam limpos, estruturados e adequados para a aplicação de algoritmos de aprendizado de máquina ou seja, temos que fornecer dados de qualidade.\n",
        "<p align=center>\n",
        "<img src=\"https://raw.githubusercontent.com/ferreiramar96/Churn-Prediction-Telecomunicacoes/main/PreProcess.png\" width=\"60%\"></p>\n"
      ],
      "metadata": {
        "id": "5jW583m1naak"
      }
    },
    {
      "cell_type": "markdown",
      "source": [
        "Uma preparação bem-executada contribui significativamente para a eficácia e a precisão do modelo final, permitindo uma análise mais confiável e insights valiosos para a tomada de decisões. Nesta fase, iremos abordar etepas como:\n",
        "\n",
        "* Codificação de Variáveis\n",
        "* Feature Engineering\n",
        "* Feature Scaling\n",
        "* Feature Selection\n",
        "* Separação dos dados (Treino e Teste)\n",
        "* Balanceamento de Classes\n"
      ],
      "metadata": {
        "id": "Wh7yeZDvnvyg"
      }
    },
    {
      "cell_type": "markdown",
      "source": [
        "#### Codificação de Variáveis\n",
        "\n",
        "Codificação de variáveis é o processo de transformar variáveis categóricas em representações numéricas adequadas para análise por algoritmos de machine learning. Existem várias técnicas de codificação, como Label Encoding, One-Hot Encoding e Dummies, que mapeiam as categorias para valores numéricos ou criam colunas binárias para cada categoria, respectivamente. A codificação de variáveis é fundamental para garantir que os modelos possam lidar com dados categóricos e obter informações valiosas a partir deles.\n",
        "\n",
        "Neste problema em questão, irei utilizar o **LabelEncoder** e **get_dummies**. O Label Encoder funciona melhor para variáveis binárias, já o dummies funciona melhor para variáveis categóricas."
      ],
      "metadata": {
        "id": "mlIzOFNSN6IP"
      }
    },
    {
      "cell_type": "code",
      "source": [
        "#Separando os tipos de variáveis\n",
        "var_binary = df_clean.nunique()[df_clean.nunique() == 2].keys().tolist()\n",
        "var_num = [col for col in df_clean.select_dtypes(['int', 'float']).columns.tolist() if col not in var_binary]\n",
        "var_cat = [col for col in df_clean.columns.tolist() if col not in var_binary + var_num]\n",
        "\n",
        "#Fazendo outra cópia dos dados\n",
        "df_cod = df_clean.copy()\n",
        "\n",
        "#Aplicando a codificação para as variáveis Binárias\n",
        "le = LabelEncoder()\n",
        "for i in var_binary:\n",
        "  df_cod[i] = le.fit_transform(df_cod[i])\n",
        "\n",
        "#Aplicando a codificação para as variáveis de múltiplas classes\n",
        "df_cod = pd.get_dummies(df_cod, columns=var_cat)\n",
        "\n",
        "#Verificando as Entradas\n",
        "df_cod.head()"
      ],
      "metadata": {
        "colab": {
          "base_uri": "https://localhost:8080/",
          "height": 334
        },
        "id": "vb45a_8YSMyK",
        "outputId": "6f98a4cb-37f0-4c2d-f2ad-9406e2a22f6c"
      },
      "execution_count": 20,
      "outputs": [
        {
          "output_type": "execute_result",
          "data": {
            "text/plain": [
              "   gender  SeniorCitizen  Partner  Dependents  tenure  PhoneService  \\\n",
              "0       0              0        1           0       1             0   \n",
              "1       1              0        0           0      34             1   \n",
              "2       1              0        0           0       2             1   \n",
              "3       1              0        0           0      45             0   \n",
              "4       0              0        0           0       2             1   \n",
              "\n",
              "   MultipleLines  OnlineSecurity  OnlineBackup  DeviceProtection  ...  \\\n",
              "0              0               0             1                 0  ...   \n",
              "1              0               1             0                 1  ...   \n",
              "2              0               1             1                 0  ...   \n",
              "3              0               1             0                 1  ...   \n",
              "4              0               0             0                 0  ...   \n",
              "\n",
              "   InternetService_DSL  InternetService_Fiber optic  InternetService_No  \\\n",
              "0                    1                            0                   0   \n",
              "1                    1                            0                   0   \n",
              "2                    1                            0                   0   \n",
              "3                    1                            0                   0   \n",
              "4                    0                            1                   0   \n",
              "\n",
              "   Contract_Month-to-month  Contract_One year  Contract_Two year  \\\n",
              "0                        1                  0                  0   \n",
              "1                        0                  1                  0   \n",
              "2                        1                  0                  0   \n",
              "3                        0                  1                  0   \n",
              "4                        1                  0                  0   \n",
              "\n",
              "   PaymentMethod_Bank transfer (automatic)  \\\n",
              "0                                        0   \n",
              "1                                        0   \n",
              "2                                        0   \n",
              "3                                        1   \n",
              "4                                        0   \n",
              "\n",
              "   PaymentMethod_Credit card (automatic)  PaymentMethod_Electronic check  \\\n",
              "0                                      0                               1   \n",
              "1                                      0                               0   \n",
              "2                                      0                               0   \n",
              "3                                      0                               0   \n",
              "4                                      0                               1   \n",
              "\n",
              "   PaymentMethod_Mailed check  \n",
              "0                           0  \n",
              "1                           1  \n",
              "2                           1  \n",
              "3                           0  \n",
              "4                           0  \n",
              "\n",
              "[5 rows x 27 columns]"
            ],
            "text/html": [
              "\n",
              "\n",
              "  <div id=\"df-a5b1c132-6a1a-4257-b9a1-970fd7c3984a\">\n",
              "    <div class=\"colab-df-container\">\n",
              "      <div>\n",
              "<style scoped>\n",
              "    .dataframe tbody tr th:only-of-type {\n",
              "        vertical-align: middle;\n",
              "    }\n",
              "\n",
              "    .dataframe tbody tr th {\n",
              "        vertical-align: top;\n",
              "    }\n",
              "\n",
              "    .dataframe thead th {\n",
              "        text-align: right;\n",
              "    }\n",
              "</style>\n",
              "<table border=\"1\" class=\"dataframe\">\n",
              "  <thead>\n",
              "    <tr style=\"text-align: right;\">\n",
              "      <th></th>\n",
              "      <th>gender</th>\n",
              "      <th>SeniorCitizen</th>\n",
              "      <th>Partner</th>\n",
              "      <th>Dependents</th>\n",
              "      <th>tenure</th>\n",
              "      <th>PhoneService</th>\n",
              "      <th>MultipleLines</th>\n",
              "      <th>OnlineSecurity</th>\n",
              "      <th>OnlineBackup</th>\n",
              "      <th>DeviceProtection</th>\n",
              "      <th>...</th>\n",
              "      <th>InternetService_DSL</th>\n",
              "      <th>InternetService_Fiber optic</th>\n",
              "      <th>InternetService_No</th>\n",
              "      <th>Contract_Month-to-month</th>\n",
              "      <th>Contract_One year</th>\n",
              "      <th>Contract_Two year</th>\n",
              "      <th>PaymentMethod_Bank transfer (automatic)</th>\n",
              "      <th>PaymentMethod_Credit card (automatic)</th>\n",
              "      <th>PaymentMethod_Electronic check</th>\n",
              "      <th>PaymentMethod_Mailed check</th>\n",
              "    </tr>\n",
              "  </thead>\n",
              "  <tbody>\n",
              "    <tr>\n",
              "      <th>0</th>\n",
              "      <td>0</td>\n",
              "      <td>0</td>\n",
              "      <td>1</td>\n",
              "      <td>0</td>\n",
              "      <td>1</td>\n",
              "      <td>0</td>\n",
              "      <td>0</td>\n",
              "      <td>0</td>\n",
              "      <td>1</td>\n",
              "      <td>0</td>\n",
              "      <td>...</td>\n",
              "      <td>1</td>\n",
              "      <td>0</td>\n",
              "      <td>0</td>\n",
              "      <td>1</td>\n",
              "      <td>0</td>\n",
              "      <td>0</td>\n",
              "      <td>0</td>\n",
              "      <td>0</td>\n",
              "      <td>1</td>\n",
              "      <td>0</td>\n",
              "    </tr>\n",
              "    <tr>\n",
              "      <th>1</th>\n",
              "      <td>1</td>\n",
              "      <td>0</td>\n",
              "      <td>0</td>\n",
              "      <td>0</td>\n",
              "      <td>34</td>\n",
              "      <td>1</td>\n",
              "      <td>0</td>\n",
              "      <td>1</td>\n",
              "      <td>0</td>\n",
              "      <td>1</td>\n",
              "      <td>...</td>\n",
              "      <td>1</td>\n",
              "      <td>0</td>\n",
              "      <td>0</td>\n",
              "      <td>0</td>\n",
              "      <td>1</td>\n",
              "      <td>0</td>\n",
              "      <td>0</td>\n",
              "      <td>0</td>\n",
              "      <td>0</td>\n",
              "      <td>1</td>\n",
              "    </tr>\n",
              "    <tr>\n",
              "      <th>2</th>\n",
              "      <td>1</td>\n",
              "      <td>0</td>\n",
              "      <td>0</td>\n",
              "      <td>0</td>\n",
              "      <td>2</td>\n",
              "      <td>1</td>\n",
              "      <td>0</td>\n",
              "      <td>1</td>\n",
              "      <td>1</td>\n",
              "      <td>0</td>\n",
              "      <td>...</td>\n",
              "      <td>1</td>\n",
              "      <td>0</td>\n",
              "      <td>0</td>\n",
              "      <td>1</td>\n",
              "      <td>0</td>\n",
              "      <td>0</td>\n",
              "      <td>0</td>\n",
              "      <td>0</td>\n",
              "      <td>0</td>\n",
              "      <td>1</td>\n",
              "    </tr>\n",
              "    <tr>\n",
              "      <th>3</th>\n",
              "      <td>1</td>\n",
              "      <td>0</td>\n",
              "      <td>0</td>\n",
              "      <td>0</td>\n",
              "      <td>45</td>\n",
              "      <td>0</td>\n",
              "      <td>0</td>\n",
              "      <td>1</td>\n",
              "      <td>0</td>\n",
              "      <td>1</td>\n",
              "      <td>...</td>\n",
              "      <td>1</td>\n",
              "      <td>0</td>\n",
              "      <td>0</td>\n",
              "      <td>0</td>\n",
              "      <td>1</td>\n",
              "      <td>0</td>\n",
              "      <td>1</td>\n",
              "      <td>0</td>\n",
              "      <td>0</td>\n",
              "      <td>0</td>\n",
              "    </tr>\n",
              "    <tr>\n",
              "      <th>4</th>\n",
              "      <td>0</td>\n",
              "      <td>0</td>\n",
              "      <td>0</td>\n",
              "      <td>0</td>\n",
              "      <td>2</td>\n",
              "      <td>1</td>\n",
              "      <td>0</td>\n",
              "      <td>0</td>\n",
              "      <td>0</td>\n",
              "      <td>0</td>\n",
              "      <td>...</td>\n",
              "      <td>0</td>\n",
              "      <td>1</td>\n",
              "      <td>0</td>\n",
              "      <td>1</td>\n",
              "      <td>0</td>\n",
              "      <td>0</td>\n",
              "      <td>0</td>\n",
              "      <td>0</td>\n",
              "      <td>1</td>\n",
              "      <td>0</td>\n",
              "    </tr>\n",
              "  </tbody>\n",
              "</table>\n",
              "<p>5 rows × 27 columns</p>\n",
              "</div>\n",
              "      <button class=\"colab-df-convert\" onclick=\"convertToInteractive('df-a5b1c132-6a1a-4257-b9a1-970fd7c3984a')\"\n",
              "              title=\"Convert this dataframe to an interactive table.\"\n",
              "              style=\"display:none;\">\n",
              "\n",
              "  <svg xmlns=\"http://www.w3.org/2000/svg\" height=\"24px\"viewBox=\"0 0 24 24\"\n",
              "       width=\"24px\">\n",
              "    <path d=\"M0 0h24v24H0V0z\" fill=\"none\"/>\n",
              "    <path d=\"M18.56 5.44l.94 2.06.94-2.06 2.06-.94-2.06-.94-.94-2.06-.94 2.06-2.06.94zm-11 1L8.5 8.5l.94-2.06 2.06-.94-2.06-.94L8.5 2.5l-.94 2.06-2.06.94zm10 10l.94 2.06.94-2.06 2.06-.94-2.06-.94-.94-2.06-.94 2.06-2.06.94z\"/><path d=\"M17.41 7.96l-1.37-1.37c-.4-.4-.92-.59-1.43-.59-.52 0-1.04.2-1.43.59L10.3 9.45l-7.72 7.72c-.78.78-.78 2.05 0 2.83L4 21.41c.39.39.9.59 1.41.59.51 0 1.02-.2 1.41-.59l7.78-7.78 2.81-2.81c.8-.78.8-2.07 0-2.86zM5.41 20L4 18.59l7.72-7.72 1.47 1.35L5.41 20z\"/>\n",
              "  </svg>\n",
              "      </button>\n",
              "\n",
              "\n",
              "\n",
              "    <div id=\"df-4bf89140-abf2-4682-afcc-85c61948316f\">\n",
              "      <button class=\"colab-df-quickchart\" onclick=\"quickchart('df-4bf89140-abf2-4682-afcc-85c61948316f')\"\n",
              "              title=\"Suggest charts.\"\n",
              "              style=\"display:none;\">\n",
              "\n",
              "<svg xmlns=\"http://www.w3.org/2000/svg\" height=\"24px\"viewBox=\"0 0 24 24\"\n",
              "     width=\"24px\">\n",
              "    <g>\n",
              "        <path d=\"M19 3H5c-1.1 0-2 .9-2 2v14c0 1.1.9 2 2 2h14c1.1 0 2-.9 2-2V5c0-1.1-.9-2-2-2zM9 17H7v-7h2v7zm4 0h-2V7h2v10zm4 0h-2v-4h2v4z\"/>\n",
              "    </g>\n",
              "</svg>\n",
              "      </button>\n",
              "    </div>\n",
              "\n",
              "<style>\n",
              "  .colab-df-quickchart {\n",
              "    background-color: #E8F0FE;\n",
              "    border: none;\n",
              "    border-radius: 50%;\n",
              "    cursor: pointer;\n",
              "    display: none;\n",
              "    fill: #1967D2;\n",
              "    height: 32px;\n",
              "    padding: 0 0 0 0;\n",
              "    width: 32px;\n",
              "  }\n",
              "\n",
              "  .colab-df-quickchart:hover {\n",
              "    background-color: #E2EBFA;\n",
              "    box-shadow: 0px 1px 2px rgba(60, 64, 67, 0.3), 0px 1px 3px 1px rgba(60, 64, 67, 0.15);\n",
              "    fill: #174EA6;\n",
              "  }\n",
              "\n",
              "  [theme=dark] .colab-df-quickchart {\n",
              "    background-color: #3B4455;\n",
              "    fill: #D2E3FC;\n",
              "  }\n",
              "\n",
              "  [theme=dark] .colab-df-quickchart:hover {\n",
              "    background-color: #434B5C;\n",
              "    box-shadow: 0px 1px 3px 1px rgba(0, 0, 0, 0.15);\n",
              "    filter: drop-shadow(0px 1px 2px rgba(0, 0, 0, 0.3));\n",
              "    fill: #FFFFFF;\n",
              "  }\n",
              "</style>\n",
              "\n",
              "    <script>\n",
              "      async function quickchart(key) {\n",
              "        const containerElement = document.querySelector('#' + key);\n",
              "        const charts = await google.colab.kernel.invokeFunction(\n",
              "            'suggestCharts', [key], {});\n",
              "      }\n",
              "    </script>\n",
              "\n",
              "      <script>\n",
              "\n",
              "function displayQuickchartButton(domScope) {\n",
              "  let quickchartButtonEl =\n",
              "    domScope.querySelector('#df-4bf89140-abf2-4682-afcc-85c61948316f button.colab-df-quickchart');\n",
              "  quickchartButtonEl.style.display =\n",
              "    google.colab.kernel.accessAllowed ? 'block' : 'none';\n",
              "}\n",
              "\n",
              "        displayQuickchartButton(document);\n",
              "      </script>\n",
              "      <style>\n",
              "    .colab-df-container {\n",
              "      display:flex;\n",
              "      flex-wrap:wrap;\n",
              "      gap: 12px;\n",
              "    }\n",
              "\n",
              "    .colab-df-convert {\n",
              "      background-color: #E8F0FE;\n",
              "      border: none;\n",
              "      border-radius: 50%;\n",
              "      cursor: pointer;\n",
              "      display: none;\n",
              "      fill: #1967D2;\n",
              "      height: 32px;\n",
              "      padding: 0 0 0 0;\n",
              "      width: 32px;\n",
              "    }\n",
              "\n",
              "    .colab-df-convert:hover {\n",
              "      background-color: #E2EBFA;\n",
              "      box-shadow: 0px 1px 2px rgba(60, 64, 67, 0.3), 0px 1px 3px 1px rgba(60, 64, 67, 0.15);\n",
              "      fill: #174EA6;\n",
              "    }\n",
              "\n",
              "    [theme=dark] .colab-df-convert {\n",
              "      background-color: #3B4455;\n",
              "      fill: #D2E3FC;\n",
              "    }\n",
              "\n",
              "    [theme=dark] .colab-df-convert:hover {\n",
              "      background-color: #434B5C;\n",
              "      box-shadow: 0px 1px 3px 1px rgba(0, 0, 0, 0.15);\n",
              "      filter: drop-shadow(0px 1px 2px rgba(0, 0, 0, 0.3));\n",
              "      fill: #FFFFFF;\n",
              "    }\n",
              "  </style>\n",
              "\n",
              "      <script>\n",
              "        const buttonEl =\n",
              "          document.querySelector('#df-a5b1c132-6a1a-4257-b9a1-970fd7c3984a button.colab-df-convert');\n",
              "        buttonEl.style.display =\n",
              "          google.colab.kernel.accessAllowed ? 'block' : 'none';\n",
              "\n",
              "        async function convertToInteractive(key) {\n",
              "          const element = document.querySelector('#df-a5b1c132-6a1a-4257-b9a1-970fd7c3984a');\n",
              "          const dataTable =\n",
              "            await google.colab.kernel.invokeFunction('convertToInteractive',\n",
              "                                                     [key], {});\n",
              "          if (!dataTable) return;\n",
              "\n",
              "          const docLinkHtml = 'Like what you see? Visit the ' +\n",
              "            '<a target=\"_blank\" href=https://colab.research.google.com/notebooks/data_table.ipynb>data table notebook</a>'\n",
              "            + ' to learn more about interactive tables.';\n",
              "          element.innerHTML = '';\n",
              "          dataTable['output_type'] = 'display_data';\n",
              "          await google.colab.output.renderOutput(dataTable, element);\n",
              "          const docLink = document.createElement('div');\n",
              "          docLink.innerHTML = docLinkHtml;\n",
              "          element.appendChild(docLink);\n",
              "        }\n",
              "      </script>\n",
              "    </div>\n",
              "  </div>\n"
            ]
          },
          "metadata": {},
          "execution_count": 20
        }
      ]
    },
    {
      "cell_type": "markdown",
      "source": [
        "Com as modficações acima, podemos ver que não existem mais variáveis categóricas, e que a quantidade de colunas do nosso dataset aumentou. Tudo isso por conta da **Codificação**, e um ponto bacana para se comentar é o seguinte: Se na parte de Análise, eu não tivesse feito aquela correção de substituir os valores de algumas colunas que significavam a mesma coisa...esse nosso dataset estaria com mais de 40 colunas. E quanto mais compacto for nossos dados, melhor será o desempenho do nosso modelo de Machine Learning que iremos construir mais a frente.\n",
        "\n",
        "Codificação feita, podemos partir para a próxima etapa."
      ],
      "metadata": {
        "id": "gA-wKEdFZMh2"
      }
    },
    {
      "cell_type": "markdown",
      "source": [
        "#### Feature Engineering\n",
        "\n",
        "Feature Engineering é o processo de melhorar as características dos dados para torná-los mais adequados e informativos aos modelos de machine learning. Isso inclui a criação de novas variáveis, transformações ou seleções de características existentes para obter melhores insights e desempenho do modelo. O Feature Engineering é fundamental para maximizar a precisão e eficácia dos modelos, garantindo resultados mais confiáveis e valiosos."
      ],
      "metadata": {
        "id": "hlSaIO94fivk"
      }
    },
    {
      "cell_type": "code",
      "source": [
        "#Criando uma Feature de interação entre as variáveis \"Charges\"\n",
        "df_cod['InteracaoCharges'] = df_cod['MonthlyCharges'] * df_cod['TotalCharges']"
      ],
      "metadata": {
        "id": "5EexBjxDfk4Z"
      },
      "execution_count": 21,
      "outputs": []
    },
    {
      "cell_type": "code",
      "source": [
        "#Agrupando as variáveis de \"internet\"\n",
        "internet = df_cod['InternetService_DSL'] + df_cod['InternetService_Fiber optic'] + df_cod['InternetService_No']\n",
        "\n",
        "#Criando uma Feature de Engajamento\n",
        "df_cod['Engajamento'] = df_cod['PhoneService'] + df_cod['MultipleLines'] + internet + df_cod['OnlineSecurity'] + df_cod['OnlineBackup'] + df_cod['DeviceProtection'] + df_cod['TechSupport'] + df_cod['StreamingTV'] + df_cod['StreamingMovies']"
      ],
      "metadata": {
        "id": "XbKKsWgqLhI6"
      },
      "execution_count": 22,
      "outputs": []
    },
    {
      "cell_type": "markdown",
      "source": [
        "Acima criei 2 Features que podem agregar mais valor ao nosso conjunto de dados, logo mais veremos se essas features criadas possuem relevância ou não, para utilizarmos em nossos modelos. As Features criadas foram:\n",
        "\n",
        "* 1º - Feature interativa, como a **multiplicação de `MonthlyCharges` e `TotalCharges`**, para capturar potenciais efeitos de sinergia entre as variáveis.\n",
        "\n",
        "* 2º - Feature que representa o engajamento do cliente, como a **soma do número de serviços utilizados** ou a quantidade de alterações de plano nos últimos meses.\n",
        "\n",
        "Deem uma olhada em como ficou:"
      ],
      "metadata": {
        "id": "YvntHNfIZZem"
      }
    },
    {
      "cell_type": "code",
      "source": [
        "df_cod.head()"
      ],
      "metadata": {
        "colab": {
          "base_uri": "https://localhost:8080/",
          "height": 334
        },
        "id": "Vxp6qvE9aMPe",
        "outputId": "5337696d-4d8d-4b65-a43f-b065036ab1ae"
      },
      "execution_count": 23,
      "outputs": [
        {
          "output_type": "execute_result",
          "data": {
            "text/plain": [
              "   gender  SeniorCitizen  Partner  Dependents  tenure  PhoneService  \\\n",
              "0       0              0        1           0       1             0   \n",
              "1       1              0        0           0      34             1   \n",
              "2       1              0        0           0       2             1   \n",
              "3       1              0        0           0      45             0   \n",
              "4       0              0        0           0       2             1   \n",
              "\n",
              "   MultipleLines  OnlineSecurity  OnlineBackup  DeviceProtection  ...  \\\n",
              "0              0               0             1                 0  ...   \n",
              "1              0               1             0                 1  ...   \n",
              "2              0               1             1                 0  ...   \n",
              "3              0               1             0                 1  ...   \n",
              "4              0               0             0                 0  ...   \n",
              "\n",
              "   InternetService_No  Contract_Month-to-month  Contract_One year  \\\n",
              "0                   0                        1                  0   \n",
              "1                   0                        0                  1   \n",
              "2                   0                        1                  0   \n",
              "3                   0                        0                  1   \n",
              "4                   0                        1                  0   \n",
              "\n",
              "   Contract_Two year  PaymentMethod_Bank transfer (automatic)  \\\n",
              "0                  0                                        0   \n",
              "1                  0                                        0   \n",
              "2                  0                                        0   \n",
              "3                  0                                        1   \n",
              "4                  0                                        0   \n",
              "\n",
              "   PaymentMethod_Credit card (automatic)  PaymentMethod_Electronic check  \\\n",
              "0                                      0                               1   \n",
              "1                                      0                               0   \n",
              "2                                      0                               0   \n",
              "3                                      0                               0   \n",
              "4                                      0                               1   \n",
              "\n",
              "   PaymentMethod_Mailed check  InteracaoCharges  Engajamento  \n",
              "0                           0          891.0225            2  \n",
              "1                           1       107607.0250            4  \n",
              "2                           1         5823.8775            4  \n",
              "3                           0        77863.7250            4  \n",
              "4                           0        10721.6550            2  \n",
              "\n",
              "[5 rows x 29 columns]"
            ],
            "text/html": [
              "\n",
              "\n",
              "  <div id=\"df-ec07f496-0361-4de6-8390-80a89de810d3\">\n",
              "    <div class=\"colab-df-container\">\n",
              "      <div>\n",
              "<style scoped>\n",
              "    .dataframe tbody tr th:only-of-type {\n",
              "        vertical-align: middle;\n",
              "    }\n",
              "\n",
              "    .dataframe tbody tr th {\n",
              "        vertical-align: top;\n",
              "    }\n",
              "\n",
              "    .dataframe thead th {\n",
              "        text-align: right;\n",
              "    }\n",
              "</style>\n",
              "<table border=\"1\" class=\"dataframe\">\n",
              "  <thead>\n",
              "    <tr style=\"text-align: right;\">\n",
              "      <th></th>\n",
              "      <th>gender</th>\n",
              "      <th>SeniorCitizen</th>\n",
              "      <th>Partner</th>\n",
              "      <th>Dependents</th>\n",
              "      <th>tenure</th>\n",
              "      <th>PhoneService</th>\n",
              "      <th>MultipleLines</th>\n",
              "      <th>OnlineSecurity</th>\n",
              "      <th>OnlineBackup</th>\n",
              "      <th>DeviceProtection</th>\n",
              "      <th>...</th>\n",
              "      <th>InternetService_No</th>\n",
              "      <th>Contract_Month-to-month</th>\n",
              "      <th>Contract_One year</th>\n",
              "      <th>Contract_Two year</th>\n",
              "      <th>PaymentMethod_Bank transfer (automatic)</th>\n",
              "      <th>PaymentMethod_Credit card (automatic)</th>\n",
              "      <th>PaymentMethod_Electronic check</th>\n",
              "      <th>PaymentMethod_Mailed check</th>\n",
              "      <th>InteracaoCharges</th>\n",
              "      <th>Engajamento</th>\n",
              "    </tr>\n",
              "  </thead>\n",
              "  <tbody>\n",
              "    <tr>\n",
              "      <th>0</th>\n",
              "      <td>0</td>\n",
              "      <td>0</td>\n",
              "      <td>1</td>\n",
              "      <td>0</td>\n",
              "      <td>1</td>\n",
              "      <td>0</td>\n",
              "      <td>0</td>\n",
              "      <td>0</td>\n",
              "      <td>1</td>\n",
              "      <td>0</td>\n",
              "      <td>...</td>\n",
              "      <td>0</td>\n",
              "      <td>1</td>\n",
              "      <td>0</td>\n",
              "      <td>0</td>\n",
              "      <td>0</td>\n",
              "      <td>0</td>\n",
              "      <td>1</td>\n",
              "      <td>0</td>\n",
              "      <td>891.0225</td>\n",
              "      <td>2</td>\n",
              "    </tr>\n",
              "    <tr>\n",
              "      <th>1</th>\n",
              "      <td>1</td>\n",
              "      <td>0</td>\n",
              "      <td>0</td>\n",
              "      <td>0</td>\n",
              "      <td>34</td>\n",
              "      <td>1</td>\n",
              "      <td>0</td>\n",
              "      <td>1</td>\n",
              "      <td>0</td>\n",
              "      <td>1</td>\n",
              "      <td>...</td>\n",
              "      <td>0</td>\n",
              "      <td>0</td>\n",
              "      <td>1</td>\n",
              "      <td>0</td>\n",
              "      <td>0</td>\n",
              "      <td>0</td>\n",
              "      <td>0</td>\n",
              "      <td>1</td>\n",
              "      <td>107607.0250</td>\n",
              "      <td>4</td>\n",
              "    </tr>\n",
              "    <tr>\n",
              "      <th>2</th>\n",
              "      <td>1</td>\n",
              "      <td>0</td>\n",
              "      <td>0</td>\n",
              "      <td>0</td>\n",
              "      <td>2</td>\n",
              "      <td>1</td>\n",
              "      <td>0</td>\n",
              "      <td>1</td>\n",
              "      <td>1</td>\n",
              "      <td>0</td>\n",
              "      <td>...</td>\n",
              "      <td>0</td>\n",
              "      <td>1</td>\n",
              "      <td>0</td>\n",
              "      <td>0</td>\n",
              "      <td>0</td>\n",
              "      <td>0</td>\n",
              "      <td>0</td>\n",
              "      <td>1</td>\n",
              "      <td>5823.8775</td>\n",
              "      <td>4</td>\n",
              "    </tr>\n",
              "    <tr>\n",
              "      <th>3</th>\n",
              "      <td>1</td>\n",
              "      <td>0</td>\n",
              "      <td>0</td>\n",
              "      <td>0</td>\n",
              "      <td>45</td>\n",
              "      <td>0</td>\n",
              "      <td>0</td>\n",
              "      <td>1</td>\n",
              "      <td>0</td>\n",
              "      <td>1</td>\n",
              "      <td>...</td>\n",
              "      <td>0</td>\n",
              "      <td>0</td>\n",
              "      <td>1</td>\n",
              "      <td>0</td>\n",
              "      <td>1</td>\n",
              "      <td>0</td>\n",
              "      <td>0</td>\n",
              "      <td>0</td>\n",
              "      <td>77863.7250</td>\n",
              "      <td>4</td>\n",
              "    </tr>\n",
              "    <tr>\n",
              "      <th>4</th>\n",
              "      <td>0</td>\n",
              "      <td>0</td>\n",
              "      <td>0</td>\n",
              "      <td>0</td>\n",
              "      <td>2</td>\n",
              "      <td>1</td>\n",
              "      <td>0</td>\n",
              "      <td>0</td>\n",
              "      <td>0</td>\n",
              "      <td>0</td>\n",
              "      <td>...</td>\n",
              "      <td>0</td>\n",
              "      <td>1</td>\n",
              "      <td>0</td>\n",
              "      <td>0</td>\n",
              "      <td>0</td>\n",
              "      <td>0</td>\n",
              "      <td>1</td>\n",
              "      <td>0</td>\n",
              "      <td>10721.6550</td>\n",
              "      <td>2</td>\n",
              "    </tr>\n",
              "  </tbody>\n",
              "</table>\n",
              "<p>5 rows × 29 columns</p>\n",
              "</div>\n",
              "      <button class=\"colab-df-convert\" onclick=\"convertToInteractive('df-ec07f496-0361-4de6-8390-80a89de810d3')\"\n",
              "              title=\"Convert this dataframe to an interactive table.\"\n",
              "              style=\"display:none;\">\n",
              "\n",
              "  <svg xmlns=\"http://www.w3.org/2000/svg\" height=\"24px\"viewBox=\"0 0 24 24\"\n",
              "       width=\"24px\">\n",
              "    <path d=\"M0 0h24v24H0V0z\" fill=\"none\"/>\n",
              "    <path d=\"M18.56 5.44l.94 2.06.94-2.06 2.06-.94-2.06-.94-.94-2.06-.94 2.06-2.06.94zm-11 1L8.5 8.5l.94-2.06 2.06-.94-2.06-.94L8.5 2.5l-.94 2.06-2.06.94zm10 10l.94 2.06.94-2.06 2.06-.94-2.06-.94-.94-2.06-.94 2.06-2.06.94z\"/><path d=\"M17.41 7.96l-1.37-1.37c-.4-.4-.92-.59-1.43-.59-.52 0-1.04.2-1.43.59L10.3 9.45l-7.72 7.72c-.78.78-.78 2.05 0 2.83L4 21.41c.39.39.9.59 1.41.59.51 0 1.02-.2 1.41-.59l7.78-7.78 2.81-2.81c.8-.78.8-2.07 0-2.86zM5.41 20L4 18.59l7.72-7.72 1.47 1.35L5.41 20z\"/>\n",
              "  </svg>\n",
              "      </button>\n",
              "\n",
              "\n",
              "\n",
              "    <div id=\"df-7d0c315c-8d26-425a-be3e-cfec400ee870\">\n",
              "      <button class=\"colab-df-quickchart\" onclick=\"quickchart('df-7d0c315c-8d26-425a-be3e-cfec400ee870')\"\n",
              "              title=\"Suggest charts.\"\n",
              "              style=\"display:none;\">\n",
              "\n",
              "<svg xmlns=\"http://www.w3.org/2000/svg\" height=\"24px\"viewBox=\"0 0 24 24\"\n",
              "     width=\"24px\">\n",
              "    <g>\n",
              "        <path d=\"M19 3H5c-1.1 0-2 .9-2 2v14c0 1.1.9 2 2 2h14c1.1 0 2-.9 2-2V5c0-1.1-.9-2-2-2zM9 17H7v-7h2v7zm4 0h-2V7h2v10zm4 0h-2v-4h2v4z\"/>\n",
              "    </g>\n",
              "</svg>\n",
              "      </button>\n",
              "    </div>\n",
              "\n",
              "<style>\n",
              "  .colab-df-quickchart {\n",
              "    background-color: #E8F0FE;\n",
              "    border: none;\n",
              "    border-radius: 50%;\n",
              "    cursor: pointer;\n",
              "    display: none;\n",
              "    fill: #1967D2;\n",
              "    height: 32px;\n",
              "    padding: 0 0 0 0;\n",
              "    width: 32px;\n",
              "  }\n",
              "\n",
              "  .colab-df-quickchart:hover {\n",
              "    background-color: #E2EBFA;\n",
              "    box-shadow: 0px 1px 2px rgba(60, 64, 67, 0.3), 0px 1px 3px 1px rgba(60, 64, 67, 0.15);\n",
              "    fill: #174EA6;\n",
              "  }\n",
              "\n",
              "  [theme=dark] .colab-df-quickchart {\n",
              "    background-color: #3B4455;\n",
              "    fill: #D2E3FC;\n",
              "  }\n",
              "\n",
              "  [theme=dark] .colab-df-quickchart:hover {\n",
              "    background-color: #434B5C;\n",
              "    box-shadow: 0px 1px 3px 1px rgba(0, 0, 0, 0.15);\n",
              "    filter: drop-shadow(0px 1px 2px rgba(0, 0, 0, 0.3));\n",
              "    fill: #FFFFFF;\n",
              "  }\n",
              "</style>\n",
              "\n",
              "    <script>\n",
              "      async function quickchart(key) {\n",
              "        const containerElement = document.querySelector('#' + key);\n",
              "        const charts = await google.colab.kernel.invokeFunction(\n",
              "            'suggestCharts', [key], {});\n",
              "      }\n",
              "    </script>\n",
              "\n",
              "      <script>\n",
              "\n",
              "function displayQuickchartButton(domScope) {\n",
              "  let quickchartButtonEl =\n",
              "    domScope.querySelector('#df-7d0c315c-8d26-425a-be3e-cfec400ee870 button.colab-df-quickchart');\n",
              "  quickchartButtonEl.style.display =\n",
              "    google.colab.kernel.accessAllowed ? 'block' : 'none';\n",
              "}\n",
              "\n",
              "        displayQuickchartButton(document);\n",
              "      </script>\n",
              "      <style>\n",
              "    .colab-df-container {\n",
              "      display:flex;\n",
              "      flex-wrap:wrap;\n",
              "      gap: 12px;\n",
              "    }\n",
              "\n",
              "    .colab-df-convert {\n",
              "      background-color: #E8F0FE;\n",
              "      border: none;\n",
              "      border-radius: 50%;\n",
              "      cursor: pointer;\n",
              "      display: none;\n",
              "      fill: #1967D2;\n",
              "      height: 32px;\n",
              "      padding: 0 0 0 0;\n",
              "      width: 32px;\n",
              "    }\n",
              "\n",
              "    .colab-df-convert:hover {\n",
              "      background-color: #E2EBFA;\n",
              "      box-shadow: 0px 1px 2px rgba(60, 64, 67, 0.3), 0px 1px 3px 1px rgba(60, 64, 67, 0.15);\n",
              "      fill: #174EA6;\n",
              "    }\n",
              "\n",
              "    [theme=dark] .colab-df-convert {\n",
              "      background-color: #3B4455;\n",
              "      fill: #D2E3FC;\n",
              "    }\n",
              "\n",
              "    [theme=dark] .colab-df-convert:hover {\n",
              "      background-color: #434B5C;\n",
              "      box-shadow: 0px 1px 3px 1px rgba(0, 0, 0, 0.15);\n",
              "      filter: drop-shadow(0px 1px 2px rgba(0, 0, 0, 0.3));\n",
              "      fill: #FFFFFF;\n",
              "    }\n",
              "  </style>\n",
              "\n",
              "      <script>\n",
              "        const buttonEl =\n",
              "          document.querySelector('#df-ec07f496-0361-4de6-8390-80a89de810d3 button.colab-df-convert');\n",
              "        buttonEl.style.display =\n",
              "          google.colab.kernel.accessAllowed ? 'block' : 'none';\n",
              "\n",
              "        async function convertToInteractive(key) {\n",
              "          const element = document.querySelector('#df-ec07f496-0361-4de6-8390-80a89de810d3');\n",
              "          const dataTable =\n",
              "            await google.colab.kernel.invokeFunction('convertToInteractive',\n",
              "                                                     [key], {});\n",
              "          if (!dataTable) return;\n",
              "\n",
              "          const docLinkHtml = 'Like what you see? Visit the ' +\n",
              "            '<a target=\"_blank\" href=https://colab.research.google.com/notebooks/data_table.ipynb>data table notebook</a>'\n",
              "            + ' to learn more about interactive tables.';\n",
              "          element.innerHTML = '';\n",
              "          dataTable['output_type'] = 'display_data';\n",
              "          await google.colab.output.renderOutput(dataTable, element);\n",
              "          const docLink = document.createElement('div');\n",
              "          docLink.innerHTML = docLinkHtml;\n",
              "          element.appendChild(docLink);\n",
              "        }\n",
              "      </script>\n",
              "    </div>\n",
              "  </div>\n"
            ]
          },
          "metadata": {},
          "execution_count": 23
        }
      ]
    },
    {
      "cell_type": "markdown",
      "source": [
        "#### Feature Selection\n",
        "\n",
        "A Feature Selection é um processo de seleção das variáveis mais relevantes e significativas de um conjunto de dados para construir modelos de machine learning mais eficientes. **O objetivo é reduzir a dimensionalidade dos dados, removendo características irrelevantes ou redundantes**, melhorando o desempenho do modelo e evitando overfitting. Existem várias técnicas de Feature Selection, incluindo abordagens baseadas em estatísticas, algoritmos de aprendizado de máquina ou métodos baseados em modelos. A seleção adequada das features pode simplificar a análise, economizar recursos computacionais e facilitar a interpretação dos resultados.\n",
        "\n",
        "Irei testar 2 métodos:\n",
        "\n",
        "* SelectKBest - É uma técnica univariada de seleção de features que classifica cada feature individualmente, vamos utilizar a métrica chi-quadrado.\n",
        "\n",
        "* ExtraTreeClassifier - é um algoritmo de aprendizado de máquina que utiliza as interações entre features para avaliar sua importância."
      ],
      "metadata": {
        "id": "ZVt8Ng66zH2h"
      }
    },
    {
      "cell_type": "code",
      "source": [
        "#Separando os dados para o Feature Selection\n",
        "X = df_cod.drop('Churn', axis=1)\n",
        "y = df_cod['Churn']"
      ],
      "metadata": {
        "id": "khIsEsGpmB44"
      },
      "execution_count": 24,
      "outputs": []
    },
    {
      "cell_type": "code",
      "source": [
        "#Criando um loop, para utilizarmos o SelectKBest\n",
        "for k in range(10, 20, 5):\n",
        "  skb = SelectKBest(score_func=chi2, k=k)\n",
        "  feature = skb.fit_transform(X, y)\n",
        "  selected_features_namesK = X.columns[skb.get_support()]\n",
        "\n",
        "  print(f'Número de Features: {k}')\n",
        "  print(f'{selected_features_namesK}')\n",
        "  print('---' * 20)"
      ],
      "metadata": {
        "colab": {
          "base_uri": "https://localhost:8080/"
        },
        "id": "btFzf761Qx4o",
        "outputId": "786a1665-7c78-4294-a883-425ecfc2309d"
      },
      "execution_count": 25,
      "outputs": [
        {
          "output_type": "stream",
          "name": "stdout",
          "text": [
            "Número de Features: 10\n",
            "Index(['tenure', 'MonthlyCharges', 'TotalCharges',\n",
            "       'InternetService_Fiber optic', 'InternetService_No',\n",
            "       'Contract_Month-to-month', 'Contract_One year', 'Contract_Two year',\n",
            "       'PaymentMethod_Electronic check', 'InteracaoCharges'],\n",
            "      dtype='object')\n",
            "------------------------------------------------------------\n",
            "Número de Features: 15\n",
            "Index(['SeniorCitizen', 'Dependents', 'tenure', 'OnlineSecurity',\n",
            "       'TechSupport', 'PaperlessBilling', 'MonthlyCharges', 'TotalCharges',\n",
            "       'InternetService_Fiber optic', 'InternetService_No',\n",
            "       'Contract_Month-to-month', 'Contract_One year', 'Contract_Two year',\n",
            "       'PaymentMethod_Electronic check', 'InteracaoCharges'],\n",
            "      dtype='object')\n",
            "------------------------------------------------------------\n"
          ]
        }
      ]
    },
    {
      "cell_type": "code",
      "source": [
        "#Instanciando e treinando o método\n",
        "model = ExtraTreesClassifier()\n",
        "model.fit(X, y)\n",
        "\n",
        "#Obter as importâncias das features\n",
        "importances = model.feature_importances_\n",
        "\n",
        "#Criar um DataFrame com as importâncias e os nomes das features\n",
        "importance_df = pd.DataFrame({'Feature': X.columns, 'Importance': importances})\n",
        "\n",
        "#Ordenar as features pela importância em ordem decrescente\n",
        "importance_df = importance_df.sort_values(by='Importance', ascending=False)\n",
        "\n",
        "#Criando um loop, para utilizarmos o ExtraTreeClassifier\n",
        "for k in range(10, 20, 5):\n",
        "  selected_features_namesE = importance_df.head(k)['Feature'].values\n",
        "  print(f'Número de Features: {k}')\n",
        "  print(f'{selected_features_namesE}')\n",
        "  print('---' * 20)"
      ],
      "metadata": {
        "colab": {
          "base_uri": "https://localhost:8080/"
        },
        "id": "7LRYwCMflhzx",
        "outputId": "73696f18-f281-4084-fd12-6f767aa1d432"
      },
      "execution_count": 26,
      "outputs": [
        {
          "output_type": "stream",
          "name": "stdout",
          "text": [
            "Número de Features: 10\n",
            "['tenure' 'TotalCharges' 'InteracaoCharges' 'MonthlyCharges'\n",
            " 'Contract_Month-to-month' 'InternetService_Fiber optic' 'Engajamento'\n",
            " 'PaymentMethod_Electronic check' 'gender' 'Partner']\n",
            "------------------------------------------------------------\n",
            "Número de Features: 15\n",
            "['tenure' 'TotalCharges' 'InteracaoCharges' 'MonthlyCharges'\n",
            " 'Contract_Month-to-month' 'InternetService_Fiber optic' 'Engajamento'\n",
            " 'PaymentMethod_Electronic check' 'gender' 'Partner' 'PaperlessBilling'\n",
            " 'SeniorCitizen' 'OnlineSecurity' 'OnlineBackup' 'Dependents']\n",
            "------------------------------------------------------------\n"
          ]
        }
      ]
    },
    {
      "cell_type": "code",
      "source": [
        "# Calcular a porcentagem de importância de cada feature em relação à maior importância\n",
        "max_importance = importance_df['Importance'].max()\n",
        "importance_df['Percentage'] = (importance_df['Importance'] / max_importance) * 100\n",
        "\n",
        "# Plotar o gráfico de barras com as porcentagens de importância\n",
        "plt.figure(figsize=(14, 4))\n",
        "plt.bar(importance_df['Feature'], importance_df['Percentage'])\n",
        "plt.ylabel('Importância', fontsize=12)\n",
        "plt.xticks(rotation=45, ha='right', fontsize=7)\n",
        "plt.title('Importancia das Features', fontsize=14)\n",
        "plt.show()"
      ],
      "metadata": {
        "colab": {
          "base_uri": "https://localhost:8080/",
          "height": 535
        },
        "id": "1BIAq1V_qtPk",
        "outputId": "a2e28710-d037-4e3c-eb93-c783d5235608"
      },
      "execution_count": 27,
      "outputs": [
        {
          "output_type": "display_data",
          "data": {
            "text/plain": [
              "<Figure size 1400x400 with 1 Axes>"
            ],
            "image/png": "[encoded data removed]"
          },
          "metadata": {}
        }
      ]
    },
    {
      "cell_type": "markdown",
      "source": [
        "Após aplicar as 2 técnicas de Feature Selection, podemos perceber algumas coisas:\n",
        "\n",
        "* A seleção das variáveis foram quase as mesmas, tanto no SelectKBest quanto no ExtraTreeClassifier.\n",
        "\n",
        "* Fiz uma seleção para as 10 e 15 features mais importantes.\n",
        "\n",
        "* Plotei um gráfico mostrando a ordem de importância das features, que mais influênciam para causar um Churn.\n",
        "\n",
        "* As variáveis que criei, estão entre as 10 que mais podem influenciar no resultado. A partir daqui, podemos ver importânia da análise crítica e do Feature Engineering.\n",
        "\n",
        "E por que eu fiz uma seleção para as 10 e 15 mais importantes? Pelo fato de que, irei tester como será a acurácia dos modelos com essas features, e também testarei com todas as features. E dessa forma, a que possuir melhor performance, será a quantidade de variáveis que vou utilizar.\n",
        "\n",
        " Agora vamos separar os dados de Treino e Teste para o nosso modelo, lembrando que iremos testar com os grupos de features que selecionei de acordo com sua importância."
      ],
      "metadata": {
        "id": "fV_ByKVp3wM-"
      }
    },
    {
      "cell_type": "markdown",
      "source": [
        "#### Separação dos dados (Treino e Teste)\n",
        "\n",
        "A separação dos dados em treino e teste é a divisão do conjunto de dados em duas partes: uma para treinar o modelo e outra para testá-lo. **O objetivo é avaliar o desempenho do modelo em dados não vistos durante o treinamento**, garantindo sua capacidade de generalização para novas amostras. O conjunto de treinamento é utilizado para ajustar os parâmetros do modelo, enquanto o conjunto de teste é usado para medir o desempenho e verificar se o modelo é eficaz em prever novos resultados.\n",
        "\n",
        "Irei separar os dados de X em 4 partes, com 10, 15 e todas as features."
      ],
      "metadata": {
        "id": "SXA4nHUIyX6d"
      }
    },
    {
      "cell_type": "code",
      "source": [
        "#Separando os dados em X e Y\n",
        "X28 = df_cod.drop('Churn', axis=1)\n",
        "\n",
        "X10 = df_cod[['tenure', 'MonthlyCharges', 'TotalCharges','InternetService_Fiber optic', 'InternetService_No',\n",
        "       'Contract_Month-to-month', 'Contract_One year', 'Contract_Two year','PaymentMethod_Electronic check', 'InteracaoCharges']]\n",
        "\n",
        "X15 = df_cod[['SeniorCitizen', 'Dependents', 'tenure', 'OnlineSecurity','TechSupport', 'PaperlessBilling', 'MonthlyCharges',\n",
        "              'TotalCharges','InternetService_Fiber optic', 'InternetService_No','Contract_Month-to-month', 'Contract_One year',\n",
        "              'Contract_Two year','PaymentMethod_Electronic check', 'InteracaoCharges']]\n",
        "\n",
        "y = df_cod['Churn'].values.reshape(-1, 1)"
      ],
      "metadata": {
        "id": "kpGdcxz9ieOP"
      },
      "execution_count": 28,
      "outputs": []
    },
    {
      "cell_type": "code",
      "source": [
        "#Separando os dados em Treino e Teste por cada subgrupo\n",
        "x10_train, x10_test, y10_train, y10_test = train_test_split(X10, y, stratify=y, shuffle=True)\n",
        "x15_train, x15_test, y15_train, y15_test = train_test_split(X15, y, stratify=y, shuffle=True)\n",
        "x28_train, x28_test, y28_train, y28_test = train_test_split(X28, y, stratify=y, shuffle=True)"
      ],
      "metadata": {
        "id": "vVDrh2m6kXTA"
      },
      "execution_count": 29,
      "outputs": []
    },
    {
      "cell_type": "markdown",
      "source": [
        "Fiz a separação de acordo com a importância de cada Feature, que logo mais iremos testar qual desses subgrupos possuem um maior desempenho, e a partir disso escolher nosso modelo de IA e aperfeiçoa-lo.\n",
        "\n",
        "Agora irei partir para a parte de Padronização dos dados."
      ],
      "metadata": {
        "id": "-QqMbUHOmZlM"
      }
    },
    {
      "cell_type": "markdown",
      "source": [
        "#### Feature Scaling\n",
        "\n",
        "O Feature Scaling ou Padronização dos Dados é uma técnica de pré-processamento que padroniza as variáveis numéricas, **transformando-as para terem média zero e desvio padrão igual a um**. Essa abordagem é útil para algoritmos sensíveis à escala, garantindo que todas as variáveis tenham a mesma importância no modelo de machine learning. Iremos utilizar o `StandardScaler`, ele é aplicado a cada feature individualmente e não altera a natureza dos dados, preservando sua interpretação original.\n",
        "\n",
        "No caso, irei utiliza-lo nas seguintes variáveis: `MonthlyCharges`, `TotalCharges` e `InteracaoCharges`"
      ],
      "metadata": {
        "id": "7xuL6Nl2bBYL"
      }
    },
    {
      "cell_type": "code",
      "source": [
        "#Instanciando a função\n",
        "std_scaler = StandardScaler()\n",
        "\n",
        "#Criando uma cópia dos dados para compararmos\n",
        "df_std = df_cod.copy()\n",
        "\n",
        "#Separando as colunas\n",
        "padronizar = ['MonthlyCharges', 'TotalCharges', 'InteracaoCharges']\n",
        "\n",
        "#Aplicando a padronização\n",
        "df_cod[padronizar] = std_scaler.fit_transform(df_cod[padronizar])\n",
        "x28_train = std_scaler.fit_transform(x28_train)\n",
        "x28_test = std_scaler.fit_transform(x28_test)\n",
        "x10_train = std_scaler.fit_transform(x10_train)\n",
        "x10_test = std_scaler.fit_transform(x10_test)\n",
        "x15_train = std_scaler.fit_transform(x15_train)\n",
        "x15_test = std_scaler.fit_transform(x15_test)\n",
        "#Visualizando os dados\n",
        "print(f'Dados Não Padronizados:\\n\\n{df_std[padronizar].head()}')\n",
        "print('--------------------------------------------------')\n",
        "print(f'Dados Padronizados:\\n\\n{df_cod[padronizar].head()}')"
      ],
      "metadata": {
        "colab": {
          "base_uri": "https://localhost:8080/"
        },
        "id": "l_hxnPy7djcl",
        "outputId": "c56120ef-7c3d-4b01-aa79-3869205e0c89"
      },
      "execution_count": 30,
      "outputs": [
        {
          "output_type": "stream",
          "name": "stdout",
          "text": [
            "Dados Não Padronizados:\n",
            "\n",
            "   MonthlyCharges  TotalCharges  InteracaoCharges\n",
            "0           29.85         29.85          891.0225\n",
            "1           56.95       1889.50       107607.0250\n",
            "2           53.85        108.15         5823.8775\n",
            "3           42.30       1840.75        77863.7250\n",
            "4           70.70        151.65        10721.6550\n",
            "--------------------------------------------------\n",
            "Dados Padronizados:\n",
            "\n",
            "   MonthlyCharges  TotalCharges  InteracaoCharges\n",
            "0       -1.160323     -0.994242         -0.805537\n",
            "1       -0.259629     -0.173244         -0.356049\n",
            "2       -0.362660     -0.959674         -0.784760\n",
            "3       -0.746535     -0.194766         -0.481328\n",
            "4        0.197365     -0.940470         -0.764131\n"
          ]
        }
      ]
    },
    {
      "cell_type": "markdown",
      "source": [
        "Como podemos observar, os valores são sempre alterados para uma escala que se encontra entre 0 e 1. Irei plotar um **gráfico de correlação entre todas as variáveis** para podermos ver se após a codificação e a padronização, é possível identificar novas correlações entre as features"
      ],
      "metadata": {
        "id": "QoFdfYXhiZhW"
      }
    },
    {
      "cell_type": "code",
      "source": [
        "#Obtendo a correlação dos dados\n",
        "correlacao_geral = df_cod.corr()\n",
        "\n",
        "#Plotando o gráfico\n",
        "fig, ax = plt.subplots(figsize=(6,5))\n",
        "sns.heatmap(correlacao_geral,  cmap='rocket_r', fmt='.1f', linewidths=0.6, linecolor='black', ax=ax)\n",
        "ax.set_title('Matriz de Correlação')\n",
        "ax.tick_params(axis='x', labelsize=5)\n",
        "ax.tick_params(axis='y', labelsize=5)\n",
        "plt.show()"
      ],
      "metadata": {
        "colab": {
          "base_uri": "https://localhost:8080/",
          "height": 595
        },
        "id": "QGf-APkPi1uk",
        "outputId": "8d3f10ec-62a3-49ca-a4bd-b570ce921321"
      },
      "execution_count": 31,
      "outputs": [
        {
          "output_type": "display_data",
          "data": {
            "text/plain": [
              "<Figure size 600x500 with 2 Axes>"
            ],
            "image/png": "[encoded data removed]"
          },
          "metadata": {}
        }
      ]
    },
    {
      "cell_type": "markdown",
      "source": [
        "Aparentemente, analisando a matriz não é possível identificar muitas correlações entre as variáveis. A seguir, o último passo da parte de Pré-Processamento dos dados: O balanceamento da nossa classe de `Churn`"
      ],
      "metadata": {
        "id": "OrgVnvBwvooG"
      }
    },
    {
      "cell_type": "markdown",
      "source": [
        "#### Balanceamento de Classes\n",
        "\n",
        "Balanceamento de classes é uma técnica de pré-processamento usada em projetos de machine learning para lidar com classes desproporcionalmente representadas nos dados. **O objetivo é igualar o número de amostras em cada classe, evitando que o modelo seja enviesado para a classe majoritária** e melhorando sua capacidade de generalização. As técnicas comuns incluem oversampling (aumentar a classe minoritária) e undersampling (reduzir a classe majoritária).\n",
        "\n",
        "Irei utilizar a função `RandomUnderSampler()` da biblioteca imblearn."
      ],
      "metadata": {
        "id": "0DN698TNzy1c"
      }
    },
    {
      "cell_type": "code",
      "source": [
        "#Instanciando a função\n",
        "under_sampler = RandomUnderSampler()\n",
        "\n",
        "#Aplicando a transformação\n",
        "x28_train_bal, y28_train_bal = under_sampler.fit_resample(x28_train, y28_train)\n",
        "x10_train_bal, y10_train_bal = under_sampler.fit_resample(x10_train, y10_train)\n",
        "x15_train_bal, y15_train_bal = under_sampler.fit_resample(x15_train, y15_train)\n",
        "\n",
        "#Vendo a quantidade dos Churns após o balanceamento\n",
        "y_value_counts = pd.DataFrame(y28_train_bal.copy())\n",
        "print(y_value_counts.value_counts())\n",
        "\n",
        "#Plotando um CountPlot para ver o balanceamento\n",
        "sns.countplot(x=y28_train_bal)\n",
        "plt.show()"
      ],
      "metadata": {
        "id": "GrFYkBbcyZFq",
        "colab": {
          "base_uri": "https://localhost:8080/",
          "height": 482
        },
        "outputId": "03870353-d36d-4dec-c075-6d223ed75fa0"
      },
      "execution_count": 32,
      "outputs": [
        {
          "output_type": "stream",
          "name": "stdout",
          "text": [
            "0    1402\n",
            "1    1402\n",
            "dtype: int64\n"
          ]
        },
        {
          "output_type": "display_data",
          "data": {
            "text/plain": [
              "<Figure size 640x480 with 1 Axes>"
            ],
            "image/png": "[encoded data removed]"
          },
          "metadata": {}
        }
      ]
    },
    {
      "cell_type": "markdown",
      "source": [
        "Com nossos dados finalmente pré-processados, podemos partir para a parte mais esperada que é a parte de Machine Learning."
      ],
      "metadata": {
        "id": "GTN-lydVsKs4"
      }
    },
    {
      "cell_type": "markdown",
      "source": [
        "## Modelos de Machine Learning\n",
        "\n",
        "Machine learning é um subcampo da inteligência artificial que consiste em desenvolver algoritmos capazes de aprender a partir de dados e melhorar seu desempenho em tarefas específicas ao longo do tempo, sem serem explicitamente programados. Ele se baseia em técnicas estatísticas e computacionais que permitem ao modelo extrair padrões, estruturas e relações relevantes dos dados de treinamento para realizar previsões, classificações, regressões ou outras tarefas em novos dados não vistos anteriormente. Os algoritmos de machine learning podem ser supervisionados, não supervisionados ou semi-supervisionados, dependendo do tipo de informação disponível durante o treinamento. Eles são amplamente utilizados em áreas como processamento de linguagem natural, visão computacional, sistemas de recomendação, análise de dados e automação de tarefas complexas.\n",
        "\n",
        "<p align=center>\n",
        "<img src=\"https://raw.githubusercontent.com/ferreiramar96/Churn-Prediction-Telecomunicacoes/main/machineLearning.jpg\" width=\"60%\"></p>\n",
        "\n",
        "No projeto de Churn prediction, o machine learning é utilizado para desenvolver um modelo que possa prever a probabilidade de um cliente cancelar (fazer churn) seus serviços de telecomunicações. **O objetivo é desenvolver um modelo preciso e confiável que possa ajudar a empresa a tomar medidas proativas para reter clientes em risco de churn**, melhorar a satisfação do cliente e otimizar suas estratégias de negócios. O processo de machine learning pode envolver a utilização de diversos algoritmos, técnicas de feature engineering, seleção de features e ajuste de hiperparâmetros para criar o melhor modelo possível para o problema específico de churn.\n",
        "\n",
        "Para esse projeto irei testar os seguintes algoritmos:\n",
        "* Logistic Regression\n",
        "* Gradient Descent\n",
        "* Suport Vector Machine(SVM)\n",
        "* Decision Tree\n",
        "* Random Forest\n",
        "* K-Nearest Neighbors(KNN)\n",
        "* XGBoost\n",
        "* LightGBM\n",
        "* CatBoost\n",
        "\n",
        "E a partir desses modelos, irei pegar o recall de cada um aplicando os dados em subgrupos. Irei escolher os 3 modelos que apresentarem um reccall maior, para a partir dai eu poder tuna-los e alterar seus hyperparâmetros e obter a melhor performance possível para um resultado final.\n",
        "\n",
        "Irei utilizar uma técnica muito utilizada em Machine Learning, para testar as combinações de dados:\n",
        "\n",
        "* Validação Cruzada: É uma técnica utilizada para avaliar o desempenho de um modelo de forma mais confiável e robusta. Ela consiste em dividir o conjunto de dados em várias partes, chamadas de folds, e treinar o modelo em diferentes combinações de folds, alternando entre dados de treinamento e teste. Isso permite que o modelo seja avaliado em diferentes subconjuntos de dados, reduzindo o risco de overfitting ou underfitting.\n",
        "\n",
        "Vamos colocar em prática:"
      ],
      "metadata": {
        "id": "nxtBNAI6sH8j"
      }
    },
    {
      "cell_type": "code",
      "source": [
        "#Instanciando os modelos\n",
        "lr = LogisticRegression()\n",
        "sgdc = SGDClassifier()\n",
        "svm = SVC()\n",
        "dt = DecisionTreeClassifier()\n",
        "rf = RandomForestClassifier()\n",
        "knn = KNeighborsClassifier()\n",
        "xgb = XGBClassifier()\n",
        "lg = LGBMClassifier()\n",
        "cat = CatBoostClassifier(verbose=0)\n",
        "\n",
        "#Criando uma função para aplicar a Validação Cruzada\n",
        "def val_model(X, y, clf, quite=False):\n",
        "    pipeline = make_pipeline(clf)\n",
        "    scores = cross_val_score(pipeline, X, y, scoring='recall')\n",
        "\n",
        "    return scores.mean()"
      ],
      "metadata": {
        "id": "hdzkB_qhswSa"
      },
      "execution_count": 33,
      "outputs": []
    },
    {
      "cell_type": "code",
      "source": [
        "#Criando as listas para armazenar o nome dos modelos e os recalls\n",
        "recall28 = []\n",
        "recall10 = []\n",
        "recall15 = []\n",
        "nomesModels = []\n",
        "\n",
        "#Pegando o Recall de cada modelo\n",
        "for model in (lr, sgdc, svm, dt, rf, knn, xgb, lg, cat):\n",
        "  recall28.append(val_model(x28_train_bal, y28_train_bal, model))\n",
        "  recall10.append(val_model(x10_train_bal, y10_train_bal, model))\n",
        "  recall15.append(val_model(x15_train_bal, y15_train_bal, model))\n",
        "  nomesModels.append(model.__class__.__name__)"
      ],
      "metadata": {
        "id": "tUrqZ1JL_dxi"
      },
      "execution_count": 34,
      "outputs": []
    },
    {
      "cell_type": "code",
      "source": [
        "#Criando um Dataframe para os recalls em cada modelo e cada subconjunto de Features\n",
        "recalls = pd.DataFrame(data={\"Recall_10\": recall10, \"Recall_15\": recall15,\n",
        "                             \"Recall_28\": recall28}, index=nomesModels)\n",
        "recalls"
      ],
      "metadata": {
        "colab": {
          "base_uri": "https://localhost:8080/",
          "height": 332
        },
        "id": "RWegwvPw7lOT",
        "outputId": "7262f221-679e-4333-c718-c8b31da41ae1"
      },
      "execution_count": 35,
      "outputs": [
        {
          "output_type": "execute_result",
          "data": {
            "text/plain": [
              "                        Recall_10  Recall_15  Recall_28\n",
              "LogisticRegression       0.800991   0.804527   0.813185\n",
              "SGDClassifier            0.788894   0.823073   0.780374\n",
              "SVC                      0.796002   0.799548   0.791060\n",
              "DecisionTreeClassifier   0.675478   0.684024   0.691912\n",
              "RandomForestClassifier   0.724675   0.753198   0.761823\n",
              "KNeighborsClassifier     0.752491   0.767456   0.788172\n",
              "XGBClassifier            0.741790   0.764593   0.753244\n",
              "LGBMClassifier           0.756741   0.779586   0.772524\n",
              "CatBoostClassifier       0.784565   0.802389   0.797473"
            ],
            "text/html": [
              "\n",
              "\n",
              "  <div id=\"df-8278b428-0cc5-4b9b-ab11-308025ff274d\">\n",
              "    <div class=\"colab-df-container\">\n",
              "      <div>\n",
              "<style scoped>\n",
              "    .dataframe tbody tr th:only-of-type {\n",
              "        vertical-align: middle;\n",
              "    }\n",
              "\n",
              "    .dataframe tbody tr th {\n",
              "        vertical-align: top;\n",
              "    }\n",
              "\n",
              "    .dataframe thead th {\n",
              "        text-align: right;\n",
              "    }\n",
              "</style>\n",
              "<table border=\"1\" class=\"dataframe\">\n",
              "  <thead>\n",
              "    <tr style=\"text-align: right;\">\n",
              "      <th></th>\n",
              "      <th>Recall_10</th>\n",
              "      <th>Recall_15</th>\n",
              "      <th>Recall_28</th>\n",
              "    </tr>\n",
              "  </thead>\n",
              "  <tbody>\n",
              "    <tr>\n",
              "      <th>LogisticRegression</th>\n",
              "      <td>0.800991</td>\n",
              "      <td>0.804527</td>\n",
              "      <td>0.813185</td>\n",
              "    </tr>\n",
              "    <tr>\n",
              "      <th>SGDClassifier</th>\n",
              "      <td>0.788894</td>\n",
              "      <td>0.823073</td>\n",
              "      <td>0.780374</td>\n",
              "    </tr>\n",
              "    <tr>\n",
              "      <th>SVC</th>\n",
              "      <td>0.796002</td>\n",
              "      <td>0.799548</td>\n",
              "      <td>0.791060</td>\n",
              "    </tr>\n",
              "    <tr>\n",
              "      <th>DecisionTreeClassifier</th>\n",
              "      <td>0.675478</td>\n",
              "      <td>0.684024</td>\n",
              "      <td>0.691912</td>\n",
              "    </tr>\n",
              "    <tr>\n",
              "      <th>RandomForestClassifier</th>\n",
              "      <td>0.724675</td>\n",
              "      <td>0.753198</td>\n",
              "      <td>0.761823</td>\n",
              "    </tr>\n",
              "    <tr>\n",
              "      <th>KNeighborsClassifier</th>\n",
              "      <td>0.752491</td>\n",
              "      <td>0.767456</td>\n",
              "      <td>0.788172</td>\n",
              "    </tr>\n",
              "    <tr>\n",
              "      <th>XGBClassifier</th>\n",
              "      <td>0.741790</td>\n",
              "      <td>0.764593</td>\n",
              "      <td>0.753244</td>\n",
              "    </tr>\n",
              "    <tr>\n",
              "      <th>LGBMClassifier</th>\n",
              "      <td>0.756741</td>\n",
              "      <td>0.779586</td>\n",
              "      <td>0.772524</td>\n",
              "    </tr>\n",
              "    <tr>\n",
              "      <th>CatBoostClassifier</th>\n",
              "      <td>0.784565</td>\n",
              "      <td>0.802389</td>\n",
              "      <td>0.797473</td>\n",
              "    </tr>\n",
              "  </tbody>\n",
              "</table>\n",
              "</div>\n",
              "      <button class=\"colab-df-convert\" onclick=\"convertToInteractive('df-8278b428-0cc5-4b9b-ab11-308025ff274d')\"\n",
              "              title=\"Convert this dataframe to an interactive table.\"\n",
              "              style=\"display:none;\">\n",
              "\n",
              "  <svg xmlns=\"http://www.w3.org/2000/svg\" height=\"24px\"viewBox=\"0 0 24 24\"\n",
              "       width=\"24px\">\n",
              "    <path d=\"M0 0h24v24H0V0z\" fill=\"none\"/>\n",
              "    <path d=\"M18.56 5.44l.94 2.06.94-2.06 2.06-.94-2.06-.94-.94-2.06-.94 2.06-2.06.94zm-11 1L8.5 8.5l.94-2.06 2.06-.94-2.06-.94L8.5 2.5l-.94 2.06-2.06.94zm10 10l.94 2.06.94-2.06 2.06-.94-2.06-.94-.94-2.06-.94 2.06-2.06.94z\"/><path d=\"M17.41 7.96l-1.37-1.37c-.4-.4-.92-.59-1.43-.59-.52 0-1.04.2-1.43.59L10.3 9.45l-7.72 7.72c-.78.78-.78 2.05 0 2.83L4 21.41c.39.39.9.59 1.41.59.51 0 1.02-.2 1.41-.59l7.78-7.78 2.81-2.81c.8-.78.8-2.07 0-2.86zM5.41 20L4 18.59l7.72-7.72 1.47 1.35L5.41 20z\"/>\n",
              "  </svg>\n",
              "      </button>\n",
              "\n",
              "\n",
              "\n",
              "    <div id=\"df-b29a23c7-db20-4c88-af9e-c1be8830bfed\">\n",
              "      <button class=\"colab-df-quickchart\" onclick=\"quickchart('df-b29a23c7-db20-4c88-af9e-c1be8830bfed')\"\n",
              "              title=\"Suggest charts.\"\n",
              "              style=\"display:none;\">\n",
              "\n",
              "<svg xmlns=\"http://www.w3.org/2000/svg\" height=\"24px\"viewBox=\"0 0 24 24\"\n",
              "     width=\"24px\">\n",
              "    <g>\n",
              "        <path d=\"M19 3H5c-1.1 0-2 .9-2 2v14c0 1.1.9 2 2 2h14c1.1 0 2-.9 2-2V5c0-1.1-.9-2-2-2zM9 17H7v-7h2v7zm4 0h-2V7h2v10zm4 0h-2v-4h2v4z\"/>\n",
              "    </g>\n",
              "</svg>\n",
              "      </button>\n",
              "    </div>\n",
              "\n",
              "<style>\n",
              "  .colab-df-quickchart {\n",
              "    background-color: #E8F0FE;\n",
              "    border: none;\n",
              "    border-radius: 50%;\n",
              "    cursor: pointer;\n",
              "    display: none;\n",
              "    fill: #1967D2;\n",
              "    height: 32px;\n",
              "    padding: 0 0 0 0;\n",
              "    width: 32px;\n",
              "  }\n",
              "\n",
              "  .colab-df-quickchart:hover {\n",
              "    background-color: #E2EBFA;\n",
              "    box-shadow: 0px 1px 2px rgba(60, 64, 67, 0.3), 0px 1px 3px 1px rgba(60, 64, 67, 0.15);\n",
              "    fill: #174EA6;\n",
              "  }\n",
              "\n",
              "  [theme=dark] .colab-df-quickchart {\n",
              "    background-color: #3B4455;\n",
              "    fill: #D2E3FC;\n",
              "  }\n",
              "\n",
              "  [theme=dark] .colab-df-quickchart:hover {\n",
              "    background-color: #434B5C;\n",
              "    box-shadow: 0px 1px 3px 1px rgba(0, 0, 0, 0.15);\n",
              "    filter: drop-shadow(0px 1px 2px rgba(0, 0, 0, 0.3));\n",
              "    fill: #FFFFFF;\n",
              "  }\n",
              "</style>\n",
              "\n",
              "    <script>\n",
              "      async function quickchart(key) {\n",
              "        const containerElement = document.querySelector('#' + key);\n",
              "        const charts = await google.colab.kernel.invokeFunction(\n",
              "            'suggestCharts', [key], {});\n",
              "      }\n",
              "    </script>\n",
              "\n",
              "      <script>\n",
              "\n",
              "function displayQuickchartButton(domScope) {\n",
              "  let quickchartButtonEl =\n",
              "    domScope.querySelector('#df-b29a23c7-db20-4c88-af9e-c1be8830bfed button.colab-df-quickchart');\n",
              "  quickchartButtonEl.style.display =\n",
              "    google.colab.kernel.accessAllowed ? 'block' : 'none';\n",
              "}\n",
              "\n",
              "        displayQuickchartButton(document);\n",
              "      </script>\n",
              "      <style>\n",
              "    .colab-df-container {\n",
              "      display:flex;\n",
              "      flex-wrap:wrap;\n",
              "      gap: 12px;\n",
              "    }\n",
              "\n",
              "    .colab-df-convert {\n",
              "      background-color: #E8F0FE;\n",
              "      border: none;\n",
              "      border-radius: 50%;\n",
              "      cursor: pointer;\n",
              "      display: none;\n",
              "      fill: #1967D2;\n",
              "      height: 32px;\n",
              "      padding: 0 0 0 0;\n",
              "      width: 32px;\n",
              "    }\n",
              "\n",
              "    .colab-df-convert:hover {\n",
              "      background-color: #E2EBFA;\n",
              "      box-shadow: 0px 1px 2px rgba(60, 64, 67, 0.3), 0px 1px 3px 1px rgba(60, 64, 67, 0.15);\n",
              "      fill: #174EA6;\n",
              "    }\n",
              "\n",
              "    [theme=dark] .colab-df-convert {\n",
              "      background-color: #3B4455;\n",
              "      fill: #D2E3FC;\n",
              "    }\n",
              "\n",
              "    [theme=dark] .colab-df-convert:hover {\n",
              "      background-color: #434B5C;\n",
              "      box-shadow: 0px 1px 3px 1px rgba(0, 0, 0, 0.15);\n",
              "      filter: drop-shadow(0px 1px 2px rgba(0, 0, 0, 0.3));\n",
              "      fill: #FFFFFF;\n",
              "    }\n",
              "  </style>\n",
              "\n",
              "      <script>\n",
              "        const buttonEl =\n",
              "          document.querySelector('#df-8278b428-0cc5-4b9b-ab11-308025ff274d button.colab-df-convert');\n",
              "        buttonEl.style.display =\n",
              "          google.colab.kernel.accessAllowed ? 'block' : 'none';\n",
              "\n",
              "        async function convertToInteractive(key) {\n",
              "          const element = document.querySelector('#df-8278b428-0cc5-4b9b-ab11-308025ff274d');\n",
              "          const dataTable =\n",
              "            await google.colab.kernel.invokeFunction('convertToInteractive',\n",
              "                                                     [key], {});\n",
              "          if (!dataTable) return;\n",
              "\n",
              "          const docLinkHtml = 'Like what you see? Visit the ' +\n",
              "            '<a target=\"_blank\" href=https://colab.research.google.com/notebooks/data_table.ipynb>data table notebook</a>'\n",
              "            + ' to learn more about interactive tables.';\n",
              "          element.innerHTML = '';\n",
              "          dataTable['output_type'] = 'display_data';\n",
              "          await google.colab.output.renderOutput(dataTable, element);\n",
              "          const docLink = document.createElement('div');\n",
              "          docLink.innerHTML = docLinkHtml;\n",
              "          element.appendChild(docLink);\n",
              "        }\n",
              "      </script>\n",
              "    </div>\n",
              "  </div>\n"
            ]
          },
          "metadata": {},
          "execution_count": 35
        }
      ]
    },
    {
      "cell_type": "markdown",
      "source": [
        "Observando nossa tabela acima é possível ver que os **melhores recalls** variam de acordo com a quantidade de features e com qual modelo ele é aplicado, então irei testar de acordo com o desempenho acima das variáveis. E também irei escolher 4 modelos, e a partir disso irei tunar os hyperparâmetros desses modelos para obtermos o melhor resultado possível.\n",
        "\n",
        "Os modelos serão: `Logistic Regression`, `XGBoost`, `CatBoost` e `LightGBM`"
      ],
      "metadata": {
        "id": "rlgR3fO8RMec"
      }
    },
    {
      "cell_type": "markdown",
      "source": [
        "## Tunagem dos Hyperparâmetros\n",
        "\n",
        "Também conhecido como busca de hiperparâmetros, é um processo importante na construção de modelos de machine learning. Os hiperparâmetros são valores ajustáveis que controlam o comportamento e desempenho do modelo. A tunagem envolve encontrar a combinação ideal de hiperparâmetros que otimizam o desempenho do modelo em relação a uma métrica específica, como acurácia, precisão ou recall. Existem diversas técnicas para realizar a tunagem, incluindo Grid Search, Random Search e Otimização Bayesiana.\n",
        "\n",
        "Irei utilizar o **Grid Search**"
      ],
      "metadata": {
        "id": "xlyhFrFdmsY7"
      }
    },
    {
      "cell_type": "markdown",
      "source": [
        "#### Regressão Logística\n",
        "\n",
        "Os seguintes parâmetros serão tunados:\n",
        "\n",
        "* **C** - Controla a força da penalidade aplicada aos coeficientes do modelo. Valores menores de C aumentam a força da regularização, o que pode ajudar a evitar o overfitting, enquanto valores maiores de C reduzem a regularização, permitindo que o modelo se ajuste mais aos dados de treinamento.\n",
        "\n",
        "* **Solver** - O algoritmo utilizado para otimizar a função de custo. A escolha do solver pode afetar a velocidade de treinamento e a precisão do modelo, dependendo do tamanho do conjunto de dados e da natureza do problema.\n",
        "\n",
        "* **Max_iter** - O número máximo de iterações permitidas para o otimizador convergir para a solução. Se o otimizador não convergir antes do limite máximo de iterações, pode ser necessário aumentar esse valor."
      ],
      "metadata": {
        "id": "exp316j4zdRw"
      }
    },
    {
      "cell_type": "code",
      "source": [
        "lr = LogisticRegression()\n",
        "\n",
        "#Pegando os hyperparâmetros que serão passados para o Grid Search\n",
        "param_grid = {\n",
        " 'C': [0.1, 1, 5, 10],\n",
        " 'solver': ['liblinear', 'lbfgs', 'saga'],\n",
        " 'max_iter': range(10, 110, 10)\n",
        "}\n",
        "\n",
        "# identificar melhor parâmetro\n",
        "grid_search = GridSearchCV(lr, param_grid, scoring=\"recall\", n_jobs=-1, cv=10)\n",
        "grid_result = grid_search.fit(x28_train_bal, y28_train_bal)\n",
        "\n",
        "# ver resultados\n",
        "print('Anterior ao ajuste: {:.3f} %'.format(val_model(x28_train_bal, y28_train_bal, lr)))\n",
        "print(\"Após o ajuste: {:.3f} % para {}\".format(grid_result.best_score_, grid_result.best_params_))"
      ],
      "metadata": {
        "colab": {
          "base_uri": "https://localhost:8080/"
        },
        "id": "LcdHIh81mySa",
        "outputId": "fa10f0f7-e1ba-4b39-e807-a92186c2a167"
      },
      "execution_count": 36,
      "outputs": [
        {
          "output_type": "stream",
          "name": "stdout",
          "text": [
            "Anterior ao ajuste: 0.813 %\n",
            "Após o ajuste: 0.814 % para {'C': 5, 'max_iter': 20, 'solver': 'lbfgs'}\n"
          ]
        }
      ]
    },
    {
      "cell_type": "markdown",
      "source": [
        "Apesar de não termos conseguido quase nada de desempenho melhor, vamos utilizar os hyperparâmetros que conseguimos.\n",
        "\n",
        "Agora vamos montar o modelo final, utilizando nossos dados de teste."
      ],
      "metadata": {
        "id": "EJuj4FLcC3eJ"
      }
    },
    {
      "cell_type": "code",
      "source": [
        "#Modelo de Regressão Logística final\n",
        "lr = LogisticRegression(C=0.1, solver='lbfgs', max_iter=10)\n",
        "lr.fit(x28_train_bal, y28_train_bal)\n",
        "\n",
        "#Fazendo a previsão\n",
        "y_pred_lr = lr.predict(x28_test)\n",
        "y_pred_proba_lr = lr.predict_proba(x28_test)\n",
        "\n",
        "#Classification report e AUC\n",
        "print(classification_report(y28_test, y_pred_lr))\n",
        "print(f'AUC: {roc_auc_score(y28_test, y_pred_lr):.3f}\\n')\n",
        "\n",
        "#Matriz de correlação\n",
        "matriz_corr_lr = confusion_matrix(y28_test, y_pred_lr, normalize='true')\n",
        "fig, ax = plt.subplots(figsize=(6,5))\n",
        "sns.heatmap(matriz_corr_lr, annot=True, ax=ax)\n",
        "ax.set_title('Regressão Logística')\n",
        "ax.set_ylabel('Verdadeiro')\n",
        "ax.set_xlabel('Predict')\n",
        "plt.show()"
      ],
      "metadata": {
        "colab": {
          "base_uri": "https://localhost:8080/",
          "height": 679
        },
        "id": "Po2c3EhhoTPd",
        "outputId": "c1e25981-d1f1-4f76-9602-de242a14ab3d"
      },
      "execution_count": 37,
      "outputs": [
        {
          "output_type": "stream",
          "name": "stdout",
          "text": [
            "              precision    recall  f1-score   support\n",
            "\n",
            "           0       0.91      0.72      0.80      1294\n",
            "           1       0.50      0.80      0.62       467\n",
            "\n",
            "    accuracy                           0.74      1761\n",
            "   macro avg       0.71      0.76      0.71      1761\n",
            "weighted avg       0.80      0.74      0.75      1761\n",
            "\n",
            "AUC: 0.758\n",
            "\n"
          ]
        },
        {
          "output_type": "display_data",
          "data": {
            "text/plain": [
              "<Figure size 600x500 with 2 Axes>"
            ],
            "image/png": "[encoded data removed]"
          },
          "metadata": {}
        }
      ]
    },
    {
      "cell_type": "markdown",
      "source": [
        "Um modelo que obteve um resultado mediano, atingindo um **recall para o Verdadeiros Positivos de 80%**. Continuaremos com os outros modelos, e no final iremos fazer uma comparação entre eles."
      ],
      "metadata": {
        "id": "dFz7aL8m8st2"
      }
    },
    {
      "cell_type": "markdown",
      "source": [
        "#### XGBoost\n",
        "\n",
        "Os seguintes parâmetros serão tunados:\n",
        "\n",
        "* **Learning_rate** - Controla a contribuição de cada árvore para a previsão final. Um valor menor torna o modelo mais robusto, mas pode aumentar o número de árvores necessárias para um desempenho ideal.\n",
        "* **N_estimator** - O número de árvores de decisão criadas pelo XGBoost. Um valor mais alto pode melhorar a performance, mas também aumenta o tempo de treinamento.\n",
        "* **Max_depth** - Controla a profundidade máxima das árvores de decisão. Um valor maior pode levar ao overfitting, enquanto um valor menor pode resultar em underfitting.\n",
        "* **Min_child_weight** - Define o peso mínimo necessário para criar um novo nó em uma árvore. Isso afeta a divisão de nós durante a construção da árvore.\n",
        "* **Gamma** - Um valor que controla se um nó será dividido com base em uma redução na função de perda que ocorre. Ele atua como um parâmetro de regularização para evitar overfitting."
      ],
      "metadata": {
        "id": "ov4iP4Rb1k49"
      }
    },
    {
      "cell_type": "code",
      "source": [
        "xgb = XGBClassifier()\n",
        "\n",
        "#Pegando os hyperparâmetros que serão passados para o Grid Search\n",
        "param_grid = {\n",
        " 'learning_rate': [0.001, 0.001, 0.01, 0.1]\n",
        "}\n",
        "\n",
        "#Identificar melhor parâmetro\n",
        "grid_search = GridSearchCV(xgb, param_grid, scoring=\"recall\", n_jobs=-1, cv=10)\n",
        "grid_result = grid_search.fit(x28_train_bal, y28_train_bal)\n",
        "\n",
        "#Ver resultados\n",
        "print('Anterior ao ajuste: {:.3f} %'.format(val_model(x28_train_bal, y28_train_bal, xgb)))\n",
        "print(\"Após o ajuste: {:.3f} % para {}\".format(grid_result.best_score_, grid_result.best_params_))"
      ],
      "metadata": {
        "colab": {
          "base_uri": "https://localhost:8080/"
        },
        "id": "_c4hRh9nB6V4",
        "outputId": "2a749ddd-56fd-4565-a345-b2902777f23a"
      },
      "execution_count": 38,
      "outputs": [
        {
          "output_type": "stream",
          "name": "stdout",
          "text": [
            "Anterior ao ajuste: 0.753 %\n",
            "Após o ajuste: 0.805 % para {'learning_rate': 0.001}\n"
          ]
        }
      ]
    },
    {
      "cell_type": "code",
      "source": [
        "xgb = XGBClassifier(learning_rate=0.001)\n",
        "\n",
        "param_grid = {\n",
        " 'n_estimators': range(0, 200, 50),\n",
        "}\n",
        "\n",
        "grid_search = GridSearchCV(xgb, param_grid, scoring=\"recall\", n_jobs=-1, cv=10)\n",
        "grid_result = grid_search.fit(x28_train_bal, y28_train_bal)\n",
        "\n",
        "print('Anterior ao ajuste: {:.3f} %'.format(val_model(x28_train_bal, y28_train_bal, xgb)))\n",
        "print(\"Após o ajuste: {:.3f} % para {}\".format(grid_result.best_score_, grid_result.best_params_))"
      ],
      "metadata": {
        "colab": {
          "base_uri": "https://localhost:8080/"
        },
        "id": "1CiSkTNwDtsR",
        "outputId": "49f7fec8-81e4-4ab6-841b-3e07b312aa89"
      },
      "execution_count": 39,
      "outputs": [
        {
          "output_type": "stream",
          "name": "stdout",
          "text": [
            "Anterior ao ajuste: 0.780 %\n",
            "Após o ajuste: 0.805 % para {'n_estimators': 100}\n"
          ]
        }
      ]
    },
    {
      "cell_type": "code",
      "source": [
        "xgb = XGBClassifier(learning_rate=0.001, n_estimators=100)\n",
        "\n",
        "param_grid = {\n",
        " 'max_depth': range(1, 8, 1),\n",
        " 'min_child_weight': range(1, 5, 1)\n",
        "}\n",
        "\n",
        "grid_search = GridSearchCV(xgb, param_grid, scoring=\"recall\", n_jobs=-1, cv=10)\n",
        "grid_result = grid_search.fit(x28_train_bal, y28_train_bal)\n",
        "\n",
        "print('Anterior ao ajuste: {:.3f} %'.format(val_model(x28_train_bal, y28_train_bal, xgb)))\n",
        "print(\"Após o ajuste: {:.3f} % para {}\".format(grid_result.best_score_, grid_result.best_params_))"
      ],
      "metadata": {
        "colab": {
          "base_uri": "https://localhost:8080/"
        },
        "id": "fNoDyilvFmSs",
        "outputId": "2d60d609-30fc-4ab4-9e18-ea8b5dfb51a6"
      },
      "execution_count": 40,
      "outputs": [
        {
          "output_type": "stream",
          "name": "stdout",
          "text": [
            "Anterior ao ajuste: 0.780 %\n",
            "Após o ajuste: 0.887 % para {'max_depth': 1, 'min_child_weight': 1}\n"
          ]
        }
      ]
    },
    {
      "cell_type": "code",
      "source": [
        "xgb = XGBClassifier(learning_rate=0.001, n_estimators=100, max_depth=1, min_child_weight=1)\n",
        "\n",
        "param_grid = {\n",
        "  'gamma': [0.0, 0.1, 0.2, 0.3, 0.4, 0.5]\n",
        "}\n",
        "\n",
        "grid_search = GridSearchCV(xgb, param_grid, scoring=\"recall\", n_jobs=-1, cv=10)\n",
        "grid_result = grid_search.fit(x28_train_bal, y28_train_bal)\n",
        "\n",
        "print('Anterior ao ajuste: {:.3f} %'.format(val_model(x28_train_bal, y28_train_bal, xgb)))\n",
        "print(\"Após o ajuste: {:.3f} % para {}\".format(grid_result.best_score_, grid_result.best_params_))"
      ],
      "metadata": {
        "colab": {
          "base_uri": "https://localhost:8080/"
        },
        "id": "3YdIAQJLG_bI",
        "outputId": "5af139d9-1c54-4e33-e3a6-7dc0bc692d3b"
      },
      "execution_count": 41,
      "outputs": [
        {
          "output_type": "stream",
          "name": "stdout",
          "text": [
            "Anterior ao ajuste: 0.887 %\n",
            "Após o ajuste: 0.887 % para {'gamma': 0.0}\n"
          ]
        }
      ]
    },
    {
      "cell_type": "markdown",
      "source": [
        "Nas células acima encontrei quais são os melhores valores para os hyperparâmetros selecionados. E agora com esses valores, irei construir nosso modelo final utilizando nossos dados de teste, e enfim descobrirmos o quão bom é o nosso modelo."
      ],
      "metadata": {
        "id": "dbeQuZARHuUz"
      }
    },
    {
      "cell_type": "code",
      "source": [
        "#Modelo XGBoost final\n",
        "xgb = XGBClassifier(learning_rate=0.001 , n_estimators=100, max_depth=1, min_child_weight=1, gamma=0.0)\n",
        "xgb.fit(x28_train_bal, y28_train_bal)\n",
        "\n",
        "#Fazendo as previsões\n",
        "y_pred_xgb = xgb.predict(x28_test)\n",
        "y_pred_proba_xgb = xgb.predict_proba(x28_test)\n",
        "\n",
        "#Classification report e AUC\n",
        "print(classification_report(y28_test, y_pred_xgb))\n",
        "print(\"AUC: {:.4f}\\n\".format(roc_auc_score(y28_test, y_pred_xgb)))\n",
        "\n",
        "#Matriz de correlação\n",
        "matriz_corr_xgb = confusion_matrix(y28_test, y_pred_xgb, normalize='true')\n",
        "fig, ax = plt.subplots(figsize=(6,5))\n",
        "sns.heatmap(matriz_corr_xgb, annot=True, ax=ax)\n",
        "ax.set_title('XGBoost')\n",
        "ax.set_ylabel('Verdadeiro')\n",
        "ax.set_xlabel('Predict')\n",
        "plt.show()"
      ],
      "metadata": {
        "colab": {
          "base_uri": "https://localhost:8080/",
          "height": 678
        },
        "id": "3VRYhFzaJPR5",
        "outputId": "84e69dde-4932-499d-9af6-a270815576a0"
      },
      "execution_count": 42,
      "outputs": [
        {
          "output_type": "stream",
          "name": "stdout",
          "text": [
            "              precision    recall  f1-score   support\n",
            "\n",
            "           0       0.93      0.57      0.71      1294\n",
            "           1       0.43      0.88      0.57       467\n",
            "\n",
            "    accuracy                           0.65      1761\n",
            "   macro avg       0.68      0.73      0.64      1761\n",
            "weighted avg       0.80      0.65      0.67      1761\n",
            "\n",
            "AUC: 0.7252\n",
            "\n"
          ]
        },
        {
          "output_type": "display_data",
          "data": {
            "text/plain": [
              "<Figure size 600x500 with 2 Axes>"
            ],
            "image/png": "[encoded data removed]"
          },
          "metadata": {}
        }
      ]
    },
    {
      "cell_type": "markdown",
      "source": [
        "Podemos perceber que antes de turnarmos os hyperparâmetros obtemos um recall de 75%, e **após o tunning obtemos um recall de 88%**. Sem dúvidas foi um resultado excelente, conseguimos melhorar nosso resultado em 13% e exatamente isso que era o esperado."
      ],
      "metadata": {
        "id": "IZOcpeBeAO2w"
      }
    },
    {
      "cell_type": "markdown",
      "source": [
        "#### CatBoostClassifier\n",
        "Os seguintes parâmetros serão tunados:\n",
        "* Iterations - Número máximo de iterações (trees) a serem treinadas.\n",
        "* Learning_rate - A taxa de aprendizado.\n",
        "* Depth - A profundidade máxima das árvores de decisão. Controla a complexidade do modelo e pode evitar overfitting."
      ],
      "metadata": {
        "id": "2N_15xQp_Cg-"
      }
    },
    {
      "cell_type": "code",
      "source": [
        "cat = CatBoostClassifier(verbose=0)\n",
        "\n",
        "#Pegando os hyperparâmetros que serão passados para o Grid Search\n",
        "param_grid = {\n",
        "    'iterations': range(0, 100, 10),\n",
        "}\n",
        "\n",
        "#Identificar melhor parâmetro\n",
        "grid_search = GridSearchCV(cat, param_grid, scoring=\"recall\", n_jobs=-1, cv=10)\n",
        "grid_result = grid_search.fit(x10_train_bal, y10_train_bal)\n",
        "\n",
        "#Ver resultados\n",
        "print('Anterior ao ajuste: {:.3f} %'.format(val_model(x10_train_bal, y10_train_bal, cat)))\n",
        "print(\"Após o ajuste: {:.3f} % para {}\".format(grid_result.best_score_, grid_result.best_params_))"
      ],
      "metadata": {
        "colab": {
          "base_uri": "https://localhost:8080/"
        },
        "id": "V7owkhPdBXtz",
        "outputId": "d93a708f-da71-4975-9b3d-ba5af3d05fb6"
      },
      "execution_count": 43,
      "outputs": [
        {
          "output_type": "stream",
          "name": "stdout",
          "text": [
            "Anterior ao ajuste: 0.785 %\n",
            "Após o ajuste: 0.795 % para {'iterations': 70}\n"
          ]
        }
      ]
    },
    {
      "cell_type": "code",
      "source": [
        "cat = CatBoostClassifier(verbose=0, iterations=70)\n",
        "\n",
        "param_grid = {\n",
        "    'depth': range(1, 10, 1)\n",
        "}\n",
        "\n",
        "grid_search = GridSearchCV(cat, param_grid, scoring=\"recall\", n_jobs=-1, cv=10)\n",
        "grid_result = grid_search.fit(x10_train_bal, y10_train_bal)\n",
        "\n",
        "print('Anterior ao ajuste: {:.3f} %'.format(val_model(x10_train_bal, y10_train_bal, cat)))\n",
        "print(\"Após o ajuste: {:.3f} % para {}\".format(grid_result.best_score_, grid_result.best_params_))"
      ],
      "metadata": {
        "colab": {
          "base_uri": "https://localhost:8080/"
        },
        "id": "PqGzjou8Lr70",
        "outputId": "22fafce0-4687-4a4b-8282-fa7760b270e7"
      },
      "execution_count": 44,
      "outputs": [
        {
          "output_type": "stream",
          "name": "stdout",
          "text": [
            "Anterior ao ajuste: 0.795 %\n",
            "Após o ajuste: 0.810 % para {'depth': 1}\n"
          ]
        }
      ]
    },
    {
      "cell_type": "code",
      "source": [
        "cat = CatBoostClassifier(verbose=0, iterations=70, depth=1)\n",
        "\n",
        "param_grid = {\n",
        "    'learning_rate': [0.0001, 0.001, 0.01, 1]\n",
        "}\n",
        "\n",
        "grid_search = GridSearchCV(cat, param_grid, scoring=\"recall\", n_jobs=-1, cv=10)\n",
        "grid_result = grid_search.fit(x10_train_bal, y10_train_bal)\n",
        "\n",
        "print('Anterior ao ajuste: {:.3f} %'.format(val_model(x10_train_bal, y10_train_bal, cat)))\n",
        "print(\"Após o ajuste: {:.3f} % para {}\".format(grid_result.best_score_, grid_result.best_params_))"
      ],
      "metadata": {
        "colab": {
          "base_uri": "https://localhost:8080/"
        },
        "id": "a_hJON8gMjxm",
        "outputId": "da24322e-d688-461a-a10e-4f28ce85c896"
      },
      "execution_count": 45,
      "outputs": [
        {
          "output_type": "stream",
          "name": "stdout",
          "text": [
            "Anterior ao ajuste: 0.804 %\n",
            "Após o ajuste: 0.878 % para {'learning_rate': 0.0001}\n"
          ]
        }
      ]
    },
    {
      "cell_type": "markdown",
      "source": [
        "Assim como no XGBoost, após escolhermos os melhores valores para os hyperparâmetros...conseguimos melhor e muito o recall do nosso modelo CatBoost, agora vamos para o modelo final."
      ],
      "metadata": {
        "id": "wFJxTzHBN2qG"
      }
    },
    {
      "cell_type": "code",
      "source": [
        "#Modelo CatBoost final\n",
        "cat = CatBoostClassifier(verbose=0, iterations=70, depth=1, learning_rate=0.0001)\n",
        "cat.fit(x10_train_bal, y10_train_bal)\n",
        "\n",
        "#Fazendo as previsões\n",
        "y_pred_cat = cat.predict(x10_test)\n",
        "y_proba_cat = cat.predict_proba(x10_test)\n",
        "\n",
        "#Classification report e AUC\n",
        "print(classification_report(y10_test, y_pred_cat))\n",
        "print(\"AUC: {:.4f}\\n\".format(roc_auc_score(y10_test, y_pred_cat)))\n",
        "\n",
        "#Matriz de Correlação\n",
        "matriz_corr_cat = confusion_matrix(y10_test, y_pred_cat, normalize='true')\n",
        "fig, ax = plt.subplots(figsize=(6,5))\n",
        "sns.heatmap(matriz_corr_cat, annot=True, ax=ax)\n",
        "ax.set_title('CatBoost')\n",
        "ax.set_ylabel('Verdadeiro')\n",
        "ax.set_xlabel('Predict')\n",
        "plt.show()"
      ],
      "metadata": {
        "id": "WHvvpRgsPhNA",
        "colab": {
          "base_uri": "https://localhost:8080/",
          "height": 678
        },
        "outputId": "eb224c4d-1d83-4a46-e6a2-b6ed8b3ae80e"
      },
      "execution_count": 46,
      "outputs": [
        {
          "output_type": "stream",
          "name": "stdout",
          "text": [
            "              precision    recall  f1-score   support\n",
            "\n",
            "           0       0.94      0.56      0.70      1294\n",
            "           1       0.43      0.91      0.58       467\n",
            "\n",
            "    accuracy                           0.65      1761\n",
            "   macro avg       0.69      0.73      0.64      1761\n",
            "weighted avg       0.81      0.65      0.67      1761\n",
            "\n",
            "AUC: 0.7349\n",
            "\n"
          ]
        },
        {
          "output_type": "display_data",
          "data": {
            "text/plain": [
              "<Figure size 600x500 with 2 Axes>"
            ],
            "image/png": "[encoded data removed]"
          },
          "metadata": {}
        }
      ]
    },
    {
      "cell_type": "markdown",
      "source": [
        "Até então o CatBoost foi o melhor modelo. Antes de definirmos qualquer parâmetro, ele estava apresentando um resultado de 78% e após todas as tunagens, apresentou uma melhora de 9%. E após aplicar o modelo final, **conseguimos um recall de 91%**, que foi o melhor até agora.\n",
        "\n",
        "Vamos para o último modelo."
      ],
      "metadata": {
        "id": "ytdYK0MfpVxh"
      }
    },
    {
      "cell_type": "markdown",
      "source": [
        "#### LGBMClassifier\n",
        "Os seguintes parâmetros serão tunados:\n",
        "\n",
        "`Learning_rate`, `n_estimators`, `max_depth` e `min_child_samples` já utilizamos nos modelos acima.\n"
      ],
      "metadata": {
        "id": "QDaNUaal_4JM"
      }
    },
    {
      "cell_type": "code",
      "source": [
        "lgb = LGBMClassifier()\n",
        "\n",
        "#Pegando os hyperparâmetros que serão passados para o Grid Search\n",
        "param_grid = {\n",
        "    'learning_rate': [0.0001, 0.001, 0.01, 1]\n",
        "}\n",
        "\n",
        "#Identificar melhor parâmetro\n",
        "grid_search = GridSearchCV(lgb, param_grid, scoring=\"recall\", n_jobs=-1, cv=10)\n",
        "grid_result = grid_search.fit(x28_train_bal, y28_train_bal)\n",
        "\n",
        "#Ver resultados\n",
        "print('Anterior ao ajuste: {:.3f} %'.format(val_model(x28_train_bal, y28_train_bal, lgb)))\n",
        "print(\"Após o ajuste: {:.3f} % para {}\".format(grid_result.best_score_, grid_result.best_params_))"
      ],
      "metadata": {
        "colab": {
          "base_uri": "https://localhost:8080/"
        },
        "id": "47DbWryDr_g5",
        "outputId": "cc0834ee-6035-4356-c3aa-cff965268328"
      },
      "execution_count": 47,
      "outputs": [
        {
          "output_type": "stream",
          "name": "stdout",
          "text": [
            "Anterior ao ajuste: 0.773 %\n",
            "Após o ajuste: 0.809 % para {'learning_rate': 0.01}\n"
          ]
        }
      ]
    },
    {
      "cell_type": "code",
      "source": [
        "lgb = LGBMClassifier(learning_rate=0.01)\n",
        "\n",
        "param_grid = {\n",
        "    'n_estimators': range(0, 150, 10)\n",
        "}\n",
        "\n",
        "grid_search = GridSearchCV(lgb, param_grid, scoring=\"recall\", n_jobs=-1, cv=10)\n",
        "grid_result = grid_search.fit(x28_train_bal, y28_train_bal)\n",
        "\n",
        "print('Anterior ao ajuste: {:.3f} %'.format(val_model(x28_train_bal, y28_train_bal, lgb)))\n",
        "print(\"Após o ajuste: {:.3f} % para {}\".format(grid_result.best_score_, grid_result.best_params_))"
      ],
      "metadata": {
        "colab": {
          "base_uri": "https://localhost:8080/"
        },
        "id": "SKFcDgagspPb",
        "outputId": "a63939b2-173b-4e02-fbcc-6fb2ab803a02"
      },
      "execution_count": 48,
      "outputs": [
        {
          "output_type": "stream",
          "name": "stdout",
          "text": [
            "Anterior ao ajuste: 0.790 %\n",
            "Após o ajuste: 0.812 % para {'n_estimators': 110}\n"
          ]
        }
      ]
    },
    {
      "cell_type": "code",
      "source": [
        "lgb = LGBMClassifier(learning_rate=0.01, n_estimators=110)\n",
        "\n",
        "param_grid = {\n",
        "     'max_depth': range(1, 8, 1),\n",
        "     'min_child_samples': range(1, 5, 1),\n",
        "}\n",
        "\n",
        "grid_search = GridSearchCV(lgb, param_grid, scoring=\"recall\", n_jobs=-1, cv=10)\n",
        "grid_result = grid_search.fit(x28_train_bal, y28_train_bal)\n",
        "\n",
        "print('Anterior ao ajuste: {:.3f} %'.format(val_model(x28_train_bal, y28_train_bal, lgb)))\n",
        "print(\"Após o ajuste: {:.3f} % para {}\".format(grid_result.best_score_, grid_result.best_params_))"
      ],
      "metadata": {
        "colab": {
          "base_uri": "https://localhost:8080/"
        },
        "id": "DDA2C9gHtEei",
        "outputId": "ee1ba731-9c86-45cb-ad5f-dc3ec246cb4d"
      },
      "execution_count": 49,
      "outputs": [
        {
          "output_type": "stream",
          "name": "stdout",
          "text": [
            "Anterior ao ajuste: 0.793 %\n",
            "Após o ajuste: 0.887 % para {'max_depth': 1, 'min_child_samples': 1}\n"
          ]
        }
      ]
    },
    {
      "cell_type": "code",
      "source": [
        "#Modelo LGBM final\n",
        "lgbm = LGBMClassifier(learning_rate=0.01, n_estimators=110, max_depth=1, min_child_samples=1)\n",
        "lgbm.fit(x28_train_bal, y28_train_bal)\n",
        "\n",
        "#Fazendo as previsões\n",
        "y_pred_lgbm = lgbm.predict(x28_test)\n",
        "y_proba_lgbm = lgbm.predict_proba(x28_test)\n",
        "\n",
        "print(classification_report(y28_test, y_pred_lgbm))\n",
        "print(\"AUC: {:.4f}\\n\".format(roc_auc_score(y28_test, y_pred_lgbm)))\n",
        "\n",
        "matriz_corr_lgbm = confusion_matrix(y28_test, y_pred_lgbm, normalize='true')\n",
        "fig, ax = plt.subplots(figsize=(6,5))\n",
        "sns.heatmap(matriz_corr_lgbm, annot=True, ax=ax)\n",
        "ax.set_title('LGBM')\n",
        "ax.set_ylabel('Verdadeiro')\n",
        "ax.set_xlabel('Predict')\n",
        "plt.show()"
      ],
      "metadata": {
        "colab": {
          "base_uri": "https://localhost:8080/",
          "height": 678
        },
        "id": "C0rOOIIp4KWf",
        "outputId": "a03eb587-6caf-4d81-f94d-74275cda9cb0"
      },
      "execution_count": 50,
      "outputs": [
        {
          "output_type": "stream",
          "name": "stdout",
          "text": [
            "              precision    recall  f1-score   support\n",
            "\n",
            "           0       0.93      0.57      0.71      1294\n",
            "           1       0.43      0.88      0.57       467\n",
            "\n",
            "    accuracy                           0.65      1761\n",
            "   macro avg       0.68      0.73      0.64      1761\n",
            "weighted avg       0.80      0.65      0.67      1761\n",
            "\n",
            "AUC: 0.7252\n",
            "\n"
          ]
        },
        {
          "output_type": "display_data",
          "data": {
            "text/plain": [
              "<Figure size 600x500 with 2 Axes>"
            ],
            "image/png": "[encoded data removed]"
          },
          "metadata": {}
        }
      ]
    },
    {
      "cell_type": "markdown",
      "source": [
        "Após o tuning de nosso parâmetros, **conseguimos obter um resultado de 88% de recall**, o que é um resultado muito bom para o nosso modelo.\n",
        "\n",
        "A seguir, irei fazer o resumo sobre os modelos e apresentar qual foi o melhor e o por que disso."
      ],
      "metadata": {
        "id": "aaLdmCtqJA8W"
      }
    },
    {
      "cell_type": "markdown",
      "source": [
        "## Sobre os Modelos de Machine Learning\n",
        "\n",
        "Antes de começar a apresentar os resultados finais dos modelos, gostaria de falar um pouco sobre cada um que foi escolhido para ser utilizado(tuning) no projeto:\n",
        "* `Regressão Logística` -  Ela usa a função logística para calcular a probabilidade de pertencer a uma categoria. É usada em classificações, onde examina as relações entre variáveis independentes e a probabilidade de um resultado ocorrer. É uma extensão da regressão linear, mas para dados categóricos.\n",
        "* `XGBoost` - Ele constrói um conjunto de modelos de árvore em etapas sucessivas, focando nos erros passados para melhorar previsões futuras. O XGBoost é eficaz, rápido e lida bem com dados desbalanceados.\n",
        "* `CatBoost` -  Ele otimiza automaticamente a codificação de recursos categóricos e usa estratégias como regularização e redução de sobreajuste. O CatBoost é eficiente, preciso e é uma escolha sólida especialmente quando os dados possuem características categóricas.\n",
        "* `LGBM` -  Usando o método de busca por melhores splits em folhas, ele acelera o treinamento de árvores e lida bem com grandes conjuntos de dados. O LGBMClassifier é frequentemente escolhido para classificação devido à sua velocidade, alta precisão e capacidade de lidar com recursos categóricos.\n",
        "\n",
        "\n",
        "Se observarmos, de todos os modelos que escolhi a Regressão Logística foi a que mais se distânciou dos resultados dos demais, e temos um motivo para isso.\n",
        "**Para esse projeto, os algoritmos chamados de \"Tradicionais\" não se performaram nada bem comparados com os modelos de técnicas que chamamos de \"Ensemble\"**. E afinal o que é Ensemble?\n",
        "\n",
        "#### Modelos Ensemble\n",
        "\n",
        "Os modelos ensemble representam uma estratégia avançada no campo do aprendizado de máquina, destinada a melhorar a precisão e robustez das previsões. Essa abordagem envolve a combinação de múltiplos modelos individuais, permitindo que suas forças complementares compensem suas fraquezas individuais. O resultado é um modelo mais poderoso e geralmente mais confiável do que qualquer um dos modelos individuais.\n",
        "\n",
        "Os modelos ensemble são altamente eficazes e versáteis, sendo amplamente empregados em diversas aplicações, desde classificação e regressão até detecção de anomalias e processamento de linguagem natural. Eles tendem a apresentar desempenho superior, especialmente quando os modelos individuais possuem vieses e fraquezas diferentes.\n",
        "\n",
        "Eles funcionam da seguinte forma:\n",
        "\n",
        "<p align=center>\n",
        "<img src=\"https://raw.githubusercontent.com/ferreiramar96/Churn-Prediction-Telecomunicacoes/main/Ensemble.png\" width=\"60%\"></p>\n",
        "\n",
        "No entanto, é importante lembrar que, embora poderosos, os modelos ensemble podem ser mais complexos e demorados de treinar do que modelos individuais. A seleção adequada de algoritmos base e ajustes finos(tuning) é essencial para obter os melhores resultados. Com a crescente acessibilidade computacional, os modelos ensemble continuam a ser uma ferramenta valiosa para melhorar a qualidade das previsões em uma ampla gama de cenários de aprendizado de máquina."
      ],
      "metadata": {
        "id": "1K0E4z2NJc1b"
      }
    },
    {
      "cell_type": "markdown",
      "source": [
        "## Resultado final\n",
        "\n",
        "Após escolhermos os 4 modelos, nós partimos para a tunagem dos hyperparâmetros e utilizamos nossos dados de teste para obtermos um resultado concreto para cada algoritmo. E como dito no começo da seção de Machine Learning, a métrica que iremos utilizar para nos basear se um modelo está bom seria o recall.\n",
        "\n",
        "Essa métrica mede a capacidade do modelo em identificar corretamente todos os exemplos positivos da classe em relação ao total de exemplos positivos existentes no conjunto de dados. Em outras palavras, ele responde à pergunta: \"De todos os casos verdadeiramente positivos, quantos o modelo conseguiu identificar?\"\n",
        "\n",
        "Vamos criar um gráfico para podermos ver qual modelo se performou melhor:"
      ],
      "metadata": {
        "id": "CJ6xbSTFPUFJ"
      }
    },
    {
      "cell_type": "code",
      "source": [
        "#Montando as listas\n",
        "models = [lr, xgb, lgbm]\n",
        "test_recalls = []\n",
        "name_models = ['Regressão Logística', 'XGBoost', 'LGBM', 'CatBoost']\n",
        "\n",
        "#Criando uma iteração para pegar o recall\n",
        "for model in models:\n",
        "    model.fit(x28_train_bal, y28_train_bal)\n",
        "\n",
        "    y_test_pred = model.predict(x28_test)\n",
        "    test_recall = recall_score(y28_test, y_test_pred)\n",
        "    test_recalls.append(test_recall)\n",
        "\n",
        "#Pegando o recall para o modelo que treinei com 10 features\n",
        "test_recall = recall_score(y10_test, y_pred_cat)\n",
        "test_recalls.append(test_recall)"
      ],
      "metadata": {
        "id": "uwP9OgecPWGK"
      },
      "execution_count": 51,
      "outputs": []
    },
    {
      "cell_type": "code",
      "source": [
        "#Criando o Gráfico\n",
        "plt.figure(figsize=(10, 4))\n",
        "plt.plot(name_models, test_recalls, label='Teste', marker='o')\n",
        "plt.xlabel('Modelo')\n",
        "plt.ylabel('Recall')\n",
        "plt.title('Comparação do Recall entre os Modelos')\n",
        "\n",
        "#Mostrando os valores\n",
        "max_recall_index = test_recalls.index(max(test_recalls))\n",
        "for i, recall in enumerate(test_recalls):\n",
        "    if i != max_recall_index:\n",
        "        plt.annotate(f'{recall:.2f}', (name_models[i], recall), textcoords=\"offset points\", xytext=(0,10), ha='center')\n",
        "    else:\n",
        "        plt.annotate(f'{recall:.2f}', (name_models[i], recall), textcoords=\"offset points\", xytext=(0,-20), ha='center')\n",
        "\n",
        "plt.tight_layout()\n",
        "plt.show()"
      ],
      "metadata": {
        "colab": {
          "base_uri": "https://localhost:8080/",
          "height": 407
        },
        "id": "byADO6E4SluR",
        "outputId": "b1abf5b0-5515-45dc-9d28-ac0bf3de0e87"
      },
      "execution_count": 52,
      "outputs": [
        {
          "output_type": "display_data",
          "data": {
            "text/plain": [
              "<Figure size 1000x400 with 1 Axes>"
            ],
            "image/png": "[encoded data removed]"
          },
          "metadata": {}
        }
      ]
    },
    {
      "cell_type": "markdown",
      "source": [
        "Podemos chegar na conclusão de que após todo o trabalho de pré processamento dos dados, escolha de modelo e tunagem de Hyperparâmetro que **o melhor modelo para esse projeto foi o `CatBoost`, atingindo um incrível recall de 91%**.\n",
        "\n",
        "Os demais modelos acabaram se saindo bem também, sendo que o XGBoost e o LGBM atingiram o mesmo resultado, e a Regressão Logística obteve um resultado um pouco menor neste projeto por não ser um modelo Ensemble e não ter se performado tão bem com os dados.\n",
        "\n",
        "`Então é por isso que o modelo CatBoostClassifier foi o melhor para o projeto de Churn!`"
      ],
      "metadata": {
        "id": "hnpWv58uWx35"
      }
    },
    {
      "cell_type": "markdown",
      "source": [
        "## Conclusão\n",
        "\n",
        "Agora, nossas conclusões finais sobre o projeto de Churn Predict:\n",
        "\n",
        "* Começamos apresentando qual era o problema de negócio e qual seria a finalidade de nosso projeto. Depois partimos para a aquisição e análise exploratória, onde foi possível ver o tipo de dados, se existiam valores ausentes, identificar outliers, ver o desbalanceamento de classes e criar uma matriz de correlação.\n",
        "\n",
        "* Logo após essa parte das análises fui para a parte de preparação dos dados, onde os deixei o mais refinados possíveis para a construção do nosso modelo de inteligência artificial. E essas etapas consistiam em Codificação de Variáveis, Feature Engineering, Feature Selection, Separação dos Dados entre Treino e Teste, Feature Scaling e o Balanceamento de classes, todas essas etapas apenas para deixar nossos dados adequados para os algoritmos.\n",
        "\n",
        "* Enfim chegamos na parte em que iriamos testar alguns modelos de Machine Learning, e para isso escolhi a métrica \"Recall\" que mede a taxa de Verdadeiros Positivos corretos, e então escolhi 9 modelos de Classificação para testar: Regressão Logística, SGDC, SVC, Decision Tree, Random Forest, KNN, XGBoost, LGBM e CatBoost. Montei uma tabela com o recall de cada um, para as 10, 15 features mais importantes e para todas as features(28). E após isso escolhi os 4 melhores modelos, que foram: Regressão Logística, LGBM, Catboost e Xgboost.\n",
        "\n",
        "* Depois de escolher esses modelos parti para a parte que acredito ter sido a mais demorada, a parte de Tunagem dos Hyperparâmetros. Esta é uma parte crucial para obter o melhor desempenho do modelo, porém costuma ter uma complexidade computacional muito elevada, por isso acaba sendo um pouco mais demorada. Mas o fizemos, e conseguimos melhorar o resultado de todos os nossos algoritmos.\n",
        "\n",
        "* E para finalizar, montei o modelo final com os melhores valores para os parâmetros escolhidos e apliquei os dados de teste que ainda não haviam sido vistos pelo nosso modelo. Logo após isso parti para um leve explicação dos algoritmos e de uma técnica chamada \"Ensemble\". Após obter o resultado de cada um, montei um gráfico para exibir qual foi o melhor desempenho. E ao final de tudo, **o modelo que melhor se desempenhou foi o CatBoost atingindo um recall de 91% e é por isso que ele foi escolhido para este projeto**."
      ],
      "metadata": {
        "id": "M6fyiUovY9sh"
      }
    }
  ]
}